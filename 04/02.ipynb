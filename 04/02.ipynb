{
 "cells": [
  {
   "cell_type": "markdown",
   "metadata": {
    "collapsed": true,
    "pycharm": {
     "name": "#%%\n"
    }
   },
   "source": [
    "# Merge Sorted Singly Linked Lists (Google)\n",
    "##### *Algorithms & Data Structures*\n",
    "\n",
    "Given `k` sorted singly linked lists, write a function to merge all of the lists into one sorted singly linked list."
   ]
  },
  {
   "cell_type": "code",
   "execution_count": null,
   "metadata": {},
   "outputs": [],
   "source": []
  },
  {
   "cell_type": "markdown",
   "metadata": {},
   "source": [
    "### Solution\n",
    "\n",
    "A brute force solution here might be to gather all the values of the linked lists into one large array, sort the array, and then recreate a linked list with the values from the array. That would look like this:"
   ]
  },
  {
   "cell_type": "code",
   "execution_count": null,
   "metadata": {},
   "outputs": [],
   "source": [
    "def merge(lists):\n",
    "    # Combine all nodes into an array\n",
    "    arr = []\n",
    "    for head in lists:\n",
    "        current = head\n",
    "        while current:\n",
    "            arr.append(current.val)\n",
    "            current = current.next\n",
    "\n",
    "    new_head = current = Node(-1) # dummy head\n",
    "    for val in sorted(arr):\n",
    "        current.next = Node(val)\n",
    "        current = current.next\n",
    "\n",
    "    return new_head.next"
   ]
  },
  {
   "cell_type": "markdown",
   "metadata": {},
   "source": [
    "This would take $O(KN*\\log{(KN)})$ time and $O(KN)$ space, where $K$ is the number of lists and $N$ is the number of elements in the largest list.\n",
    "\n",
    "A better way would be to take advantage of the inherent sortedness of the input lists. We can keep track, using pointers, of where we are at each list, and pick the minimum of all the pointers. Once we've picked one, we can move that pointer up. This would run in $O(K^2*N)$ time and $O(K)$ space."
   ]
  },
  {
   "cell_type": "code",
   "execution_count": null,
   "metadata": {},
   "outputs": [],
   "source": [
    "def merge(lists):\n",
    "    new_head = current = Node(-1)\n",
    "    while all(lst is not None for lst in lists):\n",
    "        # Get min of all non-None lists\n",
    "        current_min, i = min((lst.val, i) for i, lst in enumerate(lists) if lst is not None)\n",
    "        lists[i] = lists[i].next\n",
    "        current.next = Node(current_min)\n",
    "        current = current.next\n",
    "        \n",
    "    return new_head.next"
   ]
  },
  {
   "cell_type": "markdown",
   "metadata": {},
   "source": [
    "An even faster way would be to use a heap (see the [heapq module documentation](https://docs.python.org/3/library/heapq.html)) to keep track of all the pointers instead. Then we can do this in $O(KN * \\log{(K)})$ time, since we'll be using the heapsort ordering to figure out the min in $O(\\log{(K)})$ time instead of $O(K)$ time."
   ]
  },
  {
   "cell_type": "code",
   "execution_count": null,
   "metadata": {},
   "outputs": [],
   "source": [
    "import heapq\n",
    "\n",
    "def merge(lists):\n",
    "    new_head = current = Node(-1)\n",
    "    heap = [(lst.val, i) for i, lst in enumerate(lists)]\n",
    "    heapq.heapify(heap)\n",
    "    \n",
    "    while heap:\n",
    "        current_min, i = heapq.heappop(heap)\n",
    "        \n",
    "        # Add next min to merged linked list.\n",
    "        current.next = Node(current_min)\n",
    "        current = current.next\n",
    "        \n",
    "        # Add next value to heap.\n",
    "        if lists[i] is not None:\n",
    "            heapq.heappush(heap, (lists[i].val, i))\n",
    "            lists[i] = lists[i].next\n",
    "            \n",
    "    return new_head.next"
   ]
  }
 ],
 "metadata": {
  "kernelspec": {
   "display_name": "Python 3 (ipykernel)",
   "language": "python",
   "name": "python3"
  },
  "language_info": {
   "codemirror_mode": {
    "name": "ipython",
    "version": 3
   },
   "file_extension": ".py",
   "mimetype": "text/x-python",
   "name": "python",
   "nbconvert_exporter": "python",
   "pygments_lexer": "ipython3",
   "version": "3.10.1"
  }
 },
 "nbformat": 4,
 "nbformat_minor": 1
}