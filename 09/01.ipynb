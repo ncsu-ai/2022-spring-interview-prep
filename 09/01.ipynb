{
 "cells": [
  {
   "cell_type": "markdown",
   "metadata": {
    "collapsed": true,
    "pycharm": {
     "name": "#%%\n"
    }
   },
   "source": [
    "# Binary Search Tree Validity (LinkedIn)\n",
    "##### *Algorithms & Data Structures*\n",
    "\n",
    "Determine whether a tree is a valid binary search tree.\n",
    "\n",
    "A binary search tree is a tree with two children, left and right, and satisfies the constraint that the key in the left child must be less than or equal to the root and the key in the right child must be greater than or equal to the root."
   ]
  },
  {
   "cell_type": "code",
   "execution_count": null,
   "metadata": {},
   "outputs": [],
   "source": []
  },
  {
   "cell_type": "markdown",
   "metadata": {},
   "source": [
    "### Solution\n",
    "\n",
    "To solve this problem, we need to recall the definition of a binary search tree. Each node of a BST has the following properties:\n",
    "- A node's left subtree contains only nodes with keys less than the nodes' key.\n",
    "- A node's right subtree contains only nodes with keys greater than the nodes' key.\n",
    "- Both the left and right subtrees must be valid BSTs.\n",
    "From the properties above, we can construct a recursive solution. It's tempting to write a solution which checks whether the left node's key is less than the current node's key and the right node's key is greater than the current node's key. However, we have to make sure that the property holds for the entire subtree, not just the children. For example, the following binary tree would be considered valid if we only checked the children of each node:"
   ]
  },
  {
   "cell_type": "code",
   "execution_count": null,
   "metadata": {},
   "outputs": [],
   "source": [
    "#   2\n",
    "#  / \\\n",
    "# 1   3\n",
    "#  \\\n",
    "#   4"
   ]
  },
  {
   "cell_type": "markdown",
   "metadata": {},
   "source": [
    "We can iterate through the entire left and right subtrees to determine whether the keys are valid. However, this approach can be simplified into one recursive method.\n",
    "\n",
    "Let's call our recursive method `is_bst(...)`. At each call in our recursive method, we can maintain a range of valid values for the node's keys -- we'll call the lower bound `min_key` and upper bound `max_key`. If the current node's key is outside the range of `min_key` to `max_key`, then return `False`. Otherwise, we call the method on the left and right child nodes, returning `True` if both calls return `True`. If a node is `null`, we should return `True`.\n",
    "\n",
    "When we call `is_bst(...)` on the children, we limit the range of valid keys based on our current key. If we call `is_bst(...)` on the left node, then `min_key` should remain the same, while `max_key` should be updated to the current node's key. Similarly, if we call `is_bst(...)` on the right node, then `max_key` should remain the same, while `min_key` should be updated to the current node's key."
   ]
  },
  {
   "cell_type": "code",
   "execution_count": null,
   "metadata": {},
   "outputs": [],
   "source": [
    "class TreeNode:\n",
    "    def __init__(self, key):\n",
    "        self.left = None\n",
    "        self.right = None\n",
    "        self.key = key\n",
    "\n",
    "def is_bst(root):\n",
    "    def is_bst_helper(root, min_key, max_key):\n",
    "        if root is None:\n",
    "            return True\n",
    "        if root.key <= min_key or root.key >= max_key:\n",
    "            return False\n",
    "        return is_bst_helper(root.left, min_key, root.key) and \\\n",
    "               is_bst_helper(root.right, root.key, max_key)\n",
    "\n",
    "    return is_bst_helper(root, float('-inf'), float('inf'))"
   ]
  },
  {
   "cell_type": "markdown",
   "metadata": {},
   "source": [
    "The time complexity of this solution is $O(N)$, as it requires visiting every node in the tree."
   ]
  }
 ],
 "metadata": {
  "kernelspec": {
   "display_name": "Python 3 (ipykernel)",
   "language": "python",
   "name": "python3"
  },
  "language_info": {
   "codemirror_mode": {
    "name": "ipython",
    "version": 3
   },
   "file_extension": ".py",
   "mimetype": "text/x-python",
   "name": "python",
   "nbconvert_exporter": "python",
   "pygments_lexer": "ipython3",
   "version": "3.10.1"
  }
 },
 "nbformat": 4,
 "nbformat_minor": 1
}