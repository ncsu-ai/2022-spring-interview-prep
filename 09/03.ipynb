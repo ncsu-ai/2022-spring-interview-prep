{
 "cells": [
  {
   "cell_type": "markdown",
   "metadata": {
    "collapsed": true,
    "pycharm": {
     "name": "#%%\n"
    }
   },
   "source": [
    "# SQL UNION ALL (ByteDance)\n",
    "##### *SQL*\n",
    "\n",
    "Write an SQL query to recommend pages to the user with `user_id=1` using the pages that your friends liked. It should not recommend pages you already liked."
   ]
  },
  {
   "cell_type": "code",
   "execution_count": 3,
   "metadata": {},
   "outputs": [
    {
     "data": {
      "text/html": [
       "<table style=\"width: 75%;\"><tr><td><img src=\"img/friendship.png\"/></td><td><img src=\"img/likes.png\"/></td><td><img src=\"img/result.png\"/></td></tr></table>"
      ],
      "text/plain": [
       "<IPython.core.display.HTML object>"
      ]
     },
     "metadata": {},
     "output_type": "display_data"
    }
   ],
   "source": [
    "from IPython.display import display, HTML\n",
    "display(HTML('<table style=\"width: 75%;\"><tr><td><img src=\"img/friendship.png\"/></td><td><img src=\"img/likes.png\"/></td><td><img src=\"img/result.png\"/></td></tr></table>'))"
   ]
  },
  {
   "cell_type": "code",
   "execution_count": null,
   "metadata": {},
   "outputs": [],
   "source": []
  },
  {
   "cell_type": "markdown",
   "metadata": {},
   "source": [
    "### Solution"
   ]
  },
  {
   "cell_type": "code",
   "execution_count": null,
   "metadata": {},
   "outputs": [],
   "source": [
    "'''\n",
    "select distinct page_id as recommended_page\n",
    "from likes\n",
    "where user_id = any(\n",
    "    select user2_id as id\n",
    "    from friendship\n",
    "    where user1_id = 1 or user2_id = 1 and user2_id != 1\n",
    "    union all\n",
    "    select user1_id\n",
    "    from friendship\n",
    "    where user2_id = 1\n",
    ")\n",
    "and page_id != all(\n",
    "    select page_id\n",
    "    from likes\n",
    "    where user_id = 1\n",
    ")\n",
    "'''"
   ]
  }
 ],
 "metadata": {
  "kernelspec": {
   "display_name": "Python 3 (ipykernel)",
   "language": "python",
   "name": "python3"
  },
  "language_info": {
   "codemirror_mode": {
    "name": "ipython",
    "version": 3
   },
   "file_extension": ".py",
   "mimetype": "text/x-python",
   "name": "python",
   "nbconvert_exporter": "python",
   "pygments_lexer": "ipython3",
   "version": "3.10.1"
  }
 },
 "nbformat": 4,
 "nbformat_minor": 1
}
