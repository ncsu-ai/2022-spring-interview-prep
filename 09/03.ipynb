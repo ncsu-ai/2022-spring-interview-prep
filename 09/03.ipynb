{
 "cells": [
  {
   "cell_type": "markdown",
   "metadata": {
    "collapsed": true,
    "pycharm": {
     "name": "#%%\n"
    }
   },
   "source": [
    "# Page Recommendations (ByteDance)\n",
    "##### *SQL*\n",
    "\n",
    "Write an SQL query to recommend pages to the user with `user_id=1` using the pages that their friends liked. It should not recommend pages you already liked."
   ]
  },
  {
   "cell_type": "code",
   "execution_count": 3,
   "metadata": {},
   "outputs": [
    {
     "data": {
      "text/html": [
       "<table style=\"width: 75%;\"><tr><td><img src=\"img/friendship.png\"/></td><td><img src=\"img/likes.png\"/></td><td><img src=\"img/result.png\"/></td></tr></table>"
      ],
      "text/plain": [
       "<IPython.core.display.HTML object>"
      ]
     },
     "metadata": {},
     "output_type": "display_data"
    }
   ],
   "source": [
    "from IPython.display import display, HTML\n",
    "display(HTML('<table style=\"width: 75%;\"><tr><td><img src=\"img/friendship.png\"/></td><td><img src=\"img/likes.png\"/></td><td><img src=\"img/result.png\"/></td></tr></table>'))"
   ]
  },
  {
   "cell_type": "markdown",
   "metadata": {},
   "source": [
    "Run the following code block to initialize a connection to a pre-prepared SQLite3 database which contains the `Friendship` and `Likes` tables from above."
   ]
  },
  {
   "cell_type": "code",
   "execution_count": 1,
   "metadata": {},
   "outputs": [
    {
     "name": "stdout",
     "output_type": "stream",
     "text": [
      "(1, 2)\n",
      "(1, 3)\n",
      "(1, 4)\n",
      "(2, 3)\n",
      "(2, 4)\n",
      "(2, 5)\n",
      "(6, 1)\n",
      "(1, 88)\n",
      "(2, 23)\n",
      "(3, 24)\n",
      "(4, 56)\n",
      "(5, 11)\n",
      "(6, 33)\n",
      "(2, 77)\n",
      "(3, 77)\n",
      "(6, 88)\n"
     ]
    }
   ],
   "source": [
    "import sqlite3\n",
    "\n",
    "con = sqlite3.connect('03.db')\n",
    "for row in con.execute('SELECT * FROM friendship'):\n",
    "    print(row)\n",
    "for row in con.execute('SELECT * FROM likes'):\n",
    "    print(row)"
   ]
  },
  {
   "cell_type": "markdown",
   "metadata": {},
   "source": [
    "Then, you can use the following empty code block to formulate your solution for this problem. You can execute SQL commands by calling `con.execute(...)`, passing the method a string containing your SQL query (see the above `for` loop for an example)."
   ]
  },
  {
   "cell_type": "code",
   "execution_count": null,
   "metadata": {},
   "outputs": [],
   "source": [
    "con.execute(...)"
   ]
  },
  {
   "cell_type": "markdown",
   "metadata": {},
   "source": [
    "### Solution"
   ]
  },
  {
   "cell_type": "markdown",
   "metadata": {},
   "source": [
    "This solution employs the [SQL UNION ALL operator](https://www.postgresqltutorial.com/postgresql-union/)."
   ]
  },
  {
   "cell_type": "code",
   "execution_count": 3,
   "metadata": {},
   "outputs": [
    {
     "name": "stdout",
     "output_type": "stream",
     "text": [
      "[(23,), (24,), (56,), (33,), (77,)]\n"
     ]
    }
   ],
   "source": [
    "print(con.execute('''\n",
    "select distinct page_id as recommended_page\n",
    "from likes\n",
    "where user_id in (\n",
    "    select user2_id as id\n",
    "    from friendship\n",
    "    where user1_id = 1 or user2_id = 1 and user2_id != 1\n",
    "    union all\n",
    "    select user1_id\n",
    "    from friendship\n",
    "    where user2_id = 1\n",
    ")\n",
    "and page_id not in (\n",
    "    select page_id\n",
    "    from likes\n",
    "    where user_id = 1\n",
    ")\n",
    "''').fetchall())"
   ]
  }
 ],
 "metadata": {
  "kernelspec": {
   "display_name": "Python 3 (ipykernel)",
   "language": "python",
   "name": "python3"
  },
  "language_info": {
   "codemirror_mode": {
    "name": "ipython",
    "version": 3
   },
   "file_extension": ".py",
   "mimetype": "text/x-python",
   "name": "python",
   "nbconvert_exporter": "python",
   "pygments_lexer": "ipython3",
   "version": "3.10.1"
  }
 },
 "nbformat": 4,
 "nbformat_minor": 1
}
