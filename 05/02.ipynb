{
 "cells": [
  {
   "cell_type": "markdown",
   "metadata": {
    "collapsed": true,
    "pycharm": {
     "name": "#%%\n"
    }
   },
   "source": [
    "# Deepest Node in Binary Tree (Google)\n",
    "##### *Algorithms & Data Structures*\n",
    "\n",
    "Given a root of a binary tree, return a deepest node. For example, in the tree below, return `d`."
   ]
  },
  {
   "cell_type": "code",
   "execution_count": 2,
   "metadata": {},
   "outputs": [
    {
     "data": {
      "text/html": [
       "<table><tr><td><img src=\"img/tree.png\"/></td></tr></table>"
      ],
      "text/plain": [
       "<IPython.core.display.HTML object>"
      ]
     },
     "metadata": {},
     "output_type": "display_data"
    }
   ],
   "source": [
    "from IPython.display import display, HTML\n",
    "display(HTML('<table><tr><td><img src=\"img/tree.png\"/></td></tr></table>'))"
   ]
  },
  {
   "cell_type": "code",
   "execution_count": null,
   "metadata": {},
   "outputs": [],
   "source": []
  },
  {
   "cell_type": "markdown",
   "metadata": {},
   "source": [
    "### Solution\n",
    "\n",
    "The base case for this question actually can’t be `null`, because it’s not a real result that can be combined (`null` is not a node). Here we should use the leaf node as the base case and return itself.\n",
    "\n",
    "The recursive step for this problem is a little bit tricky because we can’t actually use the results of the left and right subtrees directly. So we need to ask, what other information do we need to solve this question? It turns out if we tagged each subresult node with their depths, we could get the final solution by picking the higher depth leaf and then incrementing it:"
   ]
  },
  {
   "cell_type": "code",
   "execution_count": 3,
   "metadata": {},
   "outputs": [],
   "source": [
    "def deepest(node):\n",
    "    if node and not node.left and not node.right:\n",
    "        # Leaf and its depth\n",
    "        return (node, 1)\n",
    "\n",
    "    if not node.left:\n",
    "        # Then the deepest node is on the right subtree\n",
    "        return increment_depth(deepest(node.right))\n",
    "    elif not node.right:\n",
    "        # Then the deepest node is on the left subtree\n",
    "        return increment_depth(deepest(node.left))\n",
    "\n",
    "    # Pick higher depth tuple and then increment its depth\n",
    "    return increment_depth(max(deepest(node.left), deepest(node.right), key=lambda x: x[1]))\n",
    "\n",
    "def increment_depth(node_depth_tuple):\n",
    "    node, depth = node_depth_tuple\n",
    "    return (node, depth + 1)"
   ]
  }
 ],
 "metadata": {
  "kernelspec": {
   "display_name": "Python 3 (ipykernel)",
   "language": "python",
   "name": "python3"
  },
  "language_info": {
   "codemirror_mode": {
    "name": "ipython",
    "version": 3
   },
   "file_extension": ".py",
   "mimetype": "text/x-python",
   "name": "python",
   "nbconvert_exporter": "python",
   "pygments_lexer": "ipython3",
   "version": "3.10.1"
  }
 },
 "nbformat": 4,
 "nbformat_minor": 1
}
