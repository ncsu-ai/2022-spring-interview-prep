{
 "cells": [
  {
   "cell_type": "markdown",
   "metadata": {
    "collapsed": true,
    "pycharm": {
     "name": "#%%\n"
    }
   },
   "source": [
    "# Unpopular Books (Qualtrics)\n",
    "##### *SQL*\n",
    "\n",
    "Write an SQL query that reports the books that have sold less than 10 copies in the last year, excluding books that have been available for less than 1 month from today. Assume that today is 06-23-2019."
   ]
  },
  {
   "cell_type": "code",
   "execution_count": 14,
   "metadata": {},
   "outputs": [
    {
     "data": {
      "text/html": [
       "<table><tr><td style=\"width: 33%;\"><img src=\"img/books.png\"/></td><td style=\"width: 28%;\"><img src=\"img/orders.png\"/></td><td style=\"width: 30%;\"><img src=\"img/result.png\"/></td></tr></table>"
      ],
      "text/plain": [
       "<IPython.core.display.HTML object>"
      ]
     },
     "metadata": {},
     "output_type": "display_data"
    }
   ],
   "source": [
    "from IPython.display import display, HTML\n",
    "display(HTML('<table><tr><td style=\"width: 33%;\"><img src=\"img/books.png\"/></td><td style=\"width: 28%;\"><img src=\"img/orders.png\"/></td><td style=\"width: 30%;\"><img src=\"img/result.png\"/></td></tr></table>'))"
   ]
  },
  {
   "cell_type": "markdown",
   "metadata": {},
   "source": [
    "Run the following code block to initialize a connection to a pre-prepared SQLite3 database which contains the `Books` and `Orders` tables from above."
   ]
  },
  {
   "cell_type": "code",
   "execution_count": 1,
   "metadata": {},
   "outputs": [
    {
     "name": "stdout",
     "output_type": "stream",
     "text": [
      "(1, 'Kalila And Demna', '2010-01-01')\n",
      "(2, '28 Letters', '2012-05-12')\n",
      "(3, 'The Hobbit', '2019-06-10')\n",
      "(4, '13 Reasons Why', '2019-06-01')\n",
      "(5, 'The Hunger Games', '2008-09-21')\n",
      "(1, 1, 2, '2018-07-26')\n",
      "(2, 1, 1, '2018-11-05')\n",
      "(3, 3, 8, '2019-06-11')\n",
      "(4, 4, 6, '2019-06-05')\n",
      "(5, 4, 5, '2019-06-20')\n",
      "(6, 5, 9, '2009-02-02')\n",
      "(7, 5, 8, '2010-04-13')\n"
     ]
    }
   ],
   "source": [
    "import sqlite3\n",
    "\n",
    "con = sqlite3.connect('03.db')\n",
    "for row in con.execute('SELECT * FROM books'):\n",
    "    print(row)\n",
    "for row in con.execute('SELECT * FROM orders'):\n",
    "    print(row)"
   ]
  },
  {
   "cell_type": "markdown",
   "metadata": {},
   "source": [
    "Then, you can use the following empty code block to formulate your solution for this problem. You can execute SQL commands by calling `con.execute(...)`, passing the method a string containing your SQL query (see the above `for` loop for an example)."
   ]
  },
  {
   "cell_type": "code",
   "execution_count": null,
   "metadata": {},
   "outputs": [],
   "source": [
    "con.execute(...)"
   ]
  },
  {
   "cell_type": "markdown",
   "metadata": {},
   "source": [
    "### Solution"
   ]
  },
  {
   "cell_type": "code",
   "execution_count": 2,
   "metadata": {},
   "outputs": [
    {
     "name": "stdout",
     "output_type": "stream",
     "text": [
      "[(1, 'Kalila And Demna'), (2, '28 Letters'), (5, 'The Hunger Games')]\n"
     ]
    }
   ],
   "source": [
    "print(con.execute('''\n",
    "select b.book_id, name\n",
    "from (\n",
    "    select *\n",
    "    from books\n",
    "    where available_from < '2019-05-23'\n",
    ") b\n",
    "left join (\n",
    "    select *\n",
    "    from orders\n",
    "    where dispatch_date > '2018-06-23'\n",
    ") a\n",
    "on a.book_id = b.book_id\n",
    "group by b.book_id, name\n",
    "having coalesce(sum(quantity), 0) < 10\n",
    "''').fetchall())"
   ]
  }
 ],
 "metadata": {
  "kernelspec": {
   "display_name": "Python 3 (ipykernel)",
   "language": "python",
   "name": "python3"
  },
  "language_info": {
   "codemirror_mode": {
    "name": "ipython",
    "version": 3
   },
   "file_extension": ".py",
   "mimetype": "text/x-python",
   "name": "python",
   "nbconvert_exporter": "python",
   "pygments_lexer": "ipython3",
   "version": "3.10.1"
  }
 },
 "nbformat": 4,
 "nbformat_minor": 1
}
