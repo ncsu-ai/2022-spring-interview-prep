{
 "cells": [
  {
   "cell_type": "markdown",
   "metadata": {
    "collapsed": true,
    "pycharm": {
     "name": "#%%\n"
    }
   },
   "source": [
    "# Modifying Array to be Non-Decreasing (Facebook)\n",
    "##### *Algorithms & Data Structures*\n",
    "\n",
    "Given an array of integers, write a function to determine whether the array could become non-decreasing by modifying at most 1 element.\n",
    "\n",
    "For example, given the array `[10, 5, 7]`, you should return `True` (we can modify 10 to 1 to make the array non-decreasing)."
   ]
  },
  {
   "cell_type": "code",
   "execution_count": null,
   "metadata": {},
   "outputs": [],
   "source": []
  },
  {
   "cell_type": "markdown",
   "metadata": {},
   "source": [
    "### Solution\n",
    "\n",
    "In this problem, we can count each time an element goes down. Then, if it has gone down more than twice, we can return `False` right away. But if `count` is 1, and the element is one that cannot be erased by modifying only one endpoint of that downtick, then we should return `False` as well."
   ]
  },
  {
   "cell_type": "code",
   "execution_count": null,
   "metadata": {},
   "outputs": [],
   "source": [
    "def check(lst):\n",
    "    count = 0\n",
    "    for i in range(len(lst) - 1):\n",
    "        if lst[i] > lst[i + 1]:\n",
    "            if count > 0:\n",
    "                return False\n",
    "            if i - 1 >= 0 and i + 2 < len(lst) and lst[i] > lst[i + 2] and lst[i + 1] < lst[i - 1]:\n",
    "                return False\n",
    "            count += 1\n",
    "    \n",
    "    return True"
   ]
  }
 ],
 "metadata": {
  "kernelspec": {
   "display_name": "Python 3 (ipykernel)",
   "language": "python",
   "name": "python3"
  },
  "language_info": {
   "codemirror_mode": {
    "name": "ipython",
    "version": 3
   },
   "file_extension": ".py",
   "mimetype": "text/x-python",
   "name": "python",
   "nbconvert_exporter": "python",
   "pygments_lexer": "ipython3",
   "version": "3.10.1"
  }
 },
 "nbformat": 4,
 "nbformat_minor": 1
}
