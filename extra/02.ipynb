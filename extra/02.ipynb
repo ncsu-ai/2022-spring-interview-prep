{
 "cells": [
  {
   "cell_type": "markdown",
   "metadata": {
    "collapsed": true,
    "pycharm": {
     "name": "#%%\n"
    }
   },
   "source": [
    "# Find Largest Tree/Subtree that is a Binary Search Tree (Apple)\n",
    "##### *Algorithms & Data Structures*\n",
    "\n",
    "Given a tree, find the largest tree/subtree that is a BST.\n",
    "\n",
    "Given a tree, return the size of the largest tree/subtree that is a BST."
   ]
  },
  {
   "cell_type": "code",
   "execution_count": null,
   "metadata": {},
   "outputs": [],
   "source": []
  },
  {
   "cell_type": "markdown",
   "metadata": {},
   "source": [
    "### Solution\n",
    "\n",
    "One way we can solve this problem is by using the solution to the \"determine whether a tree is a valid binary search tree\" problem (Spring 2022 prep session 09, question 1) with modifications.\n",
    "\n",
    "Let's recap the properties of a valid BST. Each node of a BST has the following properties:\n",
    "- A node's left subtree contains only nodes with keys less than the nodes' key.\n",
    "- A node's right subtree contains only nodes with keys greater than the nodes' key.\n",
    "- Both the left and right subtrees must be valid BSTs.\n",
    "\n",
    "Our solution to `is_bst(...)` looked like this:"
   ]
  },
  {
   "cell_type": "code",
   "execution_count": null,
   "metadata": {},
   "outputs": [],
   "source": [
    "class TreeNode:\n",
    "    def __init__(self, key):\n",
    "        self.left = None\n",
    "        self.right = None\n",
    "        self.key = key\n",
    "\n",
    "def is_bst(root):\n",
    "    def is_bst_helper(root, min_key, max_key):\n",
    "        if root is None:\n",
    "            return True\n",
    "        if root.key <= min_key or root.key >= max_key:\n",
    "            return False\n",
    "        return is_bst_helper(root.left, min_key, root.key) and \\\n",
    "               is_bst_helper(root.right, root.key, max_key)\n",
    "\n",
    "    return is_bst_helper(root, float('-inf'), float('inf'))"
   ]
  },
  {
   "cell_type": "markdown",
   "metadata": {},
   "source": [
    "We can use this method at each node in our tree, starting at the leaves and returning the size of the tree upwards:"
   ]
  },
  {
   "cell_type": "code",
   "execution_count": null,
   "metadata": {},
   "outputs": [],
   "source": [
    "def size(root):\n",
    "    if root is None:\n",
    "        return 0\n",
    "    \n",
    "    return size(root.left) + size(root.right) + 1\n",
    "\n",
    "def largest_bst_subtree(root):\n",
    "    def helper(root):\n",
    "        # Returns a tuple of (size, root) of the largest subtree.\n",
    "        if is_bst(root):\n",
    "            return (size(root), root)\n",
    "        return max(helper(root.left), helper(root.right), key=lambda x: x[0])\n",
    "\n",
    "    return helper(root)[1]"
   ]
  },
  {
   "cell_type": "markdown",
   "metadata": {},
   "source": [
    "The time complexity of this solution is $O(N^2)$ in the worse case, since we are doing an $O(N)$ traversal for each of the nodes in the tree.\n",
    "\n",
    "We can improve upon this solution by using a single method to check the validity and find the size of a subtree. To do this, we can revisit the definition of a BST in our `is_bst(...)` method. Instead of passing the range of valid keys down to the children of the current node, we can return the range of valid keys up to the parent. At the current node, we check whether the key is less than the `max_key` of the left subtree or greater than the `min_key` of the right subtree. In this way, we can determine both the size and validity in a bottom-up fashion."
   ]
  },
  {
   "cell_type": "code",
   "execution_count": null,
   "metadata": {},
   "outputs": [],
   "source": [
    "def largest_bst_subtree(root):\n",
    "    max_size = 0\n",
    "    max_root = None\n",
    "    \n",
    "    def helper(root):\n",
    "        # Returns a tuple of (size, min_key, max_key) of the subtree.\n",
    "        nonlocal max_size\n",
    "        nonlocal max_root\n",
    "        if root is None:\n",
    "            return (0, float('inf'), float('-inf'))\n",
    "        \n",
    "        left = helper(root.left)\n",
    "        right = helper(root.right)\n",
    "        \n",
    "        if root.key > left[2] and root.key < right[1]:\n",
    "            size = left[0] + right[0] + 1\n",
    "            if size > max_size:\n",
    "                max_size = size\n",
    "                max_root = root\n",
    "                \n",
    "            return (size, min(root.key, left[1]), max(root.key, right[2]))\n",
    "        else:\n",
    "            return (0, float('-inf'), float('inf'))\n",
    "\n",
    "    helper(root)\n",
    "    return max_root"
   ]
  },
  {
   "cell_type": "markdown",
   "metadata": {},
   "source": [
    "Our solution now has a worst-case time complexity of $O(N)$, where $N$ is the number of nodes in the tree."
   ]
  }
 ],
 "metadata": {
  "kernelspec": {
   "display_name": "Python 3 (ipykernel)",
   "language": "python",
   "name": "python3"
  },
  "language_info": {
   "codemirror_mode": {
    "name": "ipython",
    "version": 3
   },
   "file_extension": ".py",
   "mimetype": "text/x-python",
   "name": "python",
   "nbconvert_exporter": "python",
   "pygments_lexer": "ipython3",
   "version": "3.10.1"
  }
 },
 "nbformat": 4,
 "nbformat_minor": 1
}
