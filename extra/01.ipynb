{
 "cells": [
  {
   "cell_type": "markdown",
   "metadata": {
    "collapsed": true,
    "pycharm": {
     "name": "#%%\n"
    }
   },
   "source": [
    "# Sorted Ordering of Courses to Finish All Courses (Airbnb)\n",
    "##### *Algorithms & Data Structures*\n",
    "\n",
    "We are given a hashmap associating each key (`courseId`) with a list of values (`courseIds`), which represents that the prerequisites of `courseId` are `courseIds`. Return a sorted ordering of courses such that we can finish all courses. Return `null` if there is no such ordering.\n",
    "\n",
    "For example, given `{'CSC300': ['CSC100', 'CSC200'], 'CSC200': ['CSC100'], 'CSC100': []}`, we should return `['CSC100', 'CSC200', 'CSC300']`.\n"
   ]
  },
  {
   "cell_type": "code",
   "execution_count": null,
   "metadata": {},
   "outputs": [],
   "source": []
  },
  {
   "cell_type": "markdown",
   "metadata": {},
   "source": [
    "### Solution\n",
    "\n",
    "This is a classic topological sorting question. One way to think about this problem is to think about how you would go about solving it manually? We can divide it into these two steps:\n",
    "1. Put all courses with no pre-requisites into our to-do list\n",
    "2. For each course `C` in the todo list, find each course `D` which has `C` as a prerequisite and remove `C` from its list\n",
    "3. Add `D` to the todo list.\n",
    "If in the end we couldn't take some courses, there was a circular dependency somewhere along the line (i.e., we should return `null`."
   ]
  },
  {
   "cell_type": "code",
   "execution_count": null,
   "metadata": {},
   "outputs": [],
   "source": [
    "def courses_to_take(course_to_prereqs):\n",
    "    # Copy list values into a set for faster removal.\n",
    "    course_to_prereqs = {c: set(p) for c, p in course_to_prereqs.items()}\n",
    "\n",
    "    todo = [c for c, p in course_to_prereqs.items() if not p]\n",
    "\n",
    "    # Used to find courses D which have C as a prerequiste\n",
    "    prereq_to_course = {}\n",
    "    for course in course_to_prereqs:\n",
    "        for prereq in course_to_prereqs[course]:\n",
    "            if prereq not in prereq_to_course:\n",
    "                prereq_to_course[prereq] = []\n",
    "\n",
    "            prereq_to_course[prereq].append(course)\n",
    "\n",
    "    result = [] # courses we need to take in order\n",
    "\n",
    "    while todo:\n",
    "        prereq = todo.pop()\n",
    "        result.append(prereq)\n",
    "\n",
    "        # Find which courses are now free to take\n",
    "\n",
    "        for c in prereq_to_course.get(prereq, []):\n",
    "            course_to_prereqs[c].remove(prereq)\n",
    "            if not course_to_prereqs[c]:\n",
    "                todo.append(c)\n",
    "\n",
    "    # Cicrcular dependency\n",
    "    if len(result) < len(course_to_prereqs):\n",
    "        return None\n",
    "    \n",
    "    return result"
   ]
  }
 ],
 "metadata": {
  "kernelspec": {
   "display_name": "Python 3 (ipykernel)",
   "language": "python",
   "name": "python3"
  },
  "language_info": {
   "codemirror_mode": {
    "name": "ipython",
    "version": 3
   },
   "file_extension": ".py",
   "mimetype": "text/x-python",
   "name": "python",
   "nbconvert_exporter": "python",
   "pygments_lexer": "ipython3",
   "version": "3.10.1"
  }
 },
 "nbformat": 4,
 "nbformat_minor": 1
}
