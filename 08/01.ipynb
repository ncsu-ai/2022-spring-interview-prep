{
 "cells": [
  {
   "cell_type": "markdown",
   "metadata": {
    "collapsed": true,
    "pycharm": {
     "name": "#%% md\n"
    }
   },
   "source": [
    "# Direction Rule Validation (Uber)\n",
    "##### *Algorithms & Data Structures*\n",
    "\n",
    "A rule looks like this: `A NE B`; this means point `A` is located northeast of point `B`. Another rule looks like this: `A SW C`; this means point `A` is southwest of `C`.\n",
    "\n",
    "Given a list of rules, check if the sum of the rules validate. For example, the rules below do not validate, since `A` cannot be both north and south of `C`."
   ]
  },
  {
   "cell_type": "code",
   "execution_count": 1,
   "metadata": {},
   "outputs": [
    {
     "data": {
      "text/html": [
       "<table><tr><td><img src=\"img/rules.png\"/></td></tr></table>"
      ],
      "text/plain": [
       "<IPython.core.display.HTML object>"
      ]
     },
     "metadata": {},
     "output_type": "display_data"
    }
   ],
   "source": [
    "from IPython.display import display, HTML\n",
    "display(HTML('<table><tr><td><img src=\"img/rules.png\"/></td></tr></table>'))"
   ]
  },
  {
   "cell_type": "code",
   "execution_count": null,
   "metadata": {},
   "outputs": [],
   "source": []
  },
  {
   "cell_type": "markdown",
   "metadata": {},
   "source": [
    "### Solution\n",
    "\n",
    "First, let's break down what it means for a list of rules to be invalid. Consider the following list of rules:\n",
    "- `A N B`\n",
    "- `B N A`\n",
    "\n",
    "The second rule is obviously invalid, since the first node already stated that `B` is North of `A`. We can also see that the following list is equivalent and also invalid:\n",
    "- `A N B`\n",
    "- `A S B`\n",
    "\n",
    "So, we can see that two rules invalidate each other if they relate the same pair of points and are in opposite directions. However, two rules do not invalidate each other if they are in the same direction or the directions are orthogonal to each other:\n",
    "- `A N B`\n",
    "- `A E B`\n",
    "\n",
    "In this case, we see that it is valid for `A` to be both North of `B` and East of `B` at the same time. Let's look at another base case:\n",
    "- `A N B`\n",
    "- `C N B`\n",
    "\n",
    "Here, the relative position of `A` and `C` is ambiguous, other than that they are both North of `B`. Let's now look at an example similar to the original given example:\n",
    "- `A N B`\n",
    "- `B N C`\n",
    "- `C N A`\n",
    "\n",
    "In this case, we see that `C` cannot be North of `A` because it is implied that `C` is South of `A` by the previous two rules. We could have re-written the first two rules into the following, so that the contradiction is obvious:\n",
    "- `A N B (original)`\n",
    "- `B S A`\n",
    "- `B N C (original)`\n",
    "- `A N C (through B)`\n",
    "- `C S B`\n",
    "- `C S A (through B)`\n",
    "\n",
    "Then, it is obvious that `C N A` and `C S A` are contradictory. We will perform this expansion and check for contradictions in our algorithm.\n",
    "\n",
    "Next, we need to figure out how to deal with diagonal cardinal directions (`NE`, `NW`, `SE`, and `SW`). Let's take a look at the case where there are two rules relating the same two points, and the directions are orthogonal (perpendicular) to each other:\n",
    "- `A N E`\n",
    "- `A E B`\n",
    "\n",
    "Notice that these two rules can be simplified into one: `A NE B`. Similarly, we can break down any diagonal direction into the two simple directions (`N`, `E`, `S`, and `W`) that it is composed of.\n",
    "\n",
    "Now, we can model the relationships between points as a graph. For each included in a given list of rules, there will be a corresponding vertex in the graph. To represent the cardinal directions, each vertex will have a list of edges for each of the four directions. In our solution, we will use directed edges with the convention that an edge `fromVertex DIR toVertex` means `toVertex` is \"`DIR` of\" `fromVertex`. For example, the rule `A N B` will be parsed into a `N` edge from `B` pointing to `A`, meaning `A` is North of `B`.\n",
    "\n",
    "When we add a new relationship, we should add a bi-directional edge between the two vertices -- one for the direction in the rule, and one for the opposite. For example, if the rule is `A N B`, we should add an `N` edge from `B` to `A`, and an `S` edge from `A` to `B`.\n",
    "\n",
    "To add diagonal relationships, we simply parse the two directions into single directions, and treat them as two separate rules.\n",
    "\n",
    "To validate a rule, we need to check if any existing edges conflict with the new edge(s) we are adding. We compute the relationships between all existing vertices and the new `toVertex`, and cache these within the graph.\n",
    "\n",
    "Then, we simply check all the neighbors of the `fromVertex`, and return `False` if the neighbor's relationship with `toVertex` is contradictory to the new relationship (i.e. `N` vs `S`, `E` vs `W`).\n",
    "\n",
    "When we add a new rule, we need to similarly add the relationship to all neighbors of the `fromNode`. For example, say `A` is already North of `B` (and `B` is already South of `A`). If we add the relationship `C S B`, we also add the relationship `C` South of `A` (and `A` North of `C`). If we add the relationship `C` West of `B`, we also add the relationship `C` West of `A` (and `A` East of `C`). However, we do not add a relationship to the neighbors in the same direction as the new relationship, as mentioned in an example above."
   ]
  },
  {
   "cell_type": "code",
   "execution_count": 6,
   "metadata": {},
   "outputs": [
    {
     "name": "stdout",
     "output_type": "stream",
     "text": [
      "['A N B', 'C SE B', 'C N A']\n",
      "'False'\n",
      "\n",
      "['A NW B', 'A N B']\n",
      "'True'\n",
      "\n",
      "['A N B', 'C N B']\n",
      "'True'\n",
      "\n"
     ]
    }
   ],
   "source": [
    "N = 0\n",
    "E = 1\n",
    "S = 2\n",
    "W = 3\n",
    "\n",
    "\n",
    "# A helper class which represents a node in a graph of points/rules as vertices/edges\n",
    "class Node:\n",
    "    def __init__(self, char):\n",
    "        self.edges = [[] for _ in range(4)]\n",
    "        self.char = char\n",
    "            \n",
    "\n",
    "# Calculates the integer representation of the direction opposite of the specified direction\n",
    "def opposite(direction):\n",
    "    return (direction + 2) % 4\n",
    "            \n",
    "\n",
    "# Checks if a new rule to be added to the graph contradicts an existing rule\n",
    "def isValid(nodes, fromNode, toNode, direction):\n",
    "    if toNode in fromNode.edges[opposite(direction)]:\n",
    "        return False\n",
    "    \n",
    "    return True\n",
    "\n",
    "\n",
    "# Adds the specified rule (of the form `fromNode direction toNode`) to the graph, as well as any additional rules\n",
    "# that can be reasonably implied by the newly added rule\n",
    "def addEdges(nodes, fromNode, toNode, direction):\n",
    "    oppositeDir = opposite(direction)\n",
    "    \n",
    "    fromNode.edges[direction].append(toNode)\n",
    "    toNode.edges[oppositeDir].append(fromNode)\n",
    "    \n",
    "    for d in range(4):\n",
    "        if d == direction:\n",
    "            continue\n",
    "\n",
    "        for neighbor in fromNode.edges[d]:\n",
    "            if neighbor == toNode:\n",
    "                continue\n",
    "\n",
    "            neighbor.edges[direction].append(toNode)\n",
    "            toNode.edges[oppositeDir].append(neighbor)\n",
    "\n",
    "\n",
    "# The entry point of our algorithm/solution which checks if a given list of rules is valid (i.e., does not contain any\n",
    "# contradicting rules)\n",
    "def validate(rules) -> bool:\n",
    "    nodes = {}\n",
    "    dirMap = {\n",
    "        'N': N,\n",
    "        'E': E,\n",
    "        'S': S,\n",
    "        'W': W\n",
    "    }\n",
    "    \n",
    "    for rule in rules:\n",
    "        temp = rule.split(' ')\n",
    "        fromVal = temp[2]\n",
    "        toVal = temp[0]\n",
    "        \n",
    "        if not fromVal in nodes:\n",
    "            nodes[fromVal] = Node(fromVal)\n",
    "        \n",
    "        if not toVal in nodes:\n",
    "            nodes[toVal] = Node(toVal)\n",
    "            \n",
    "        fromNode = nodes[fromVal]\n",
    "        toNode = nodes[toVal]\n",
    "            \n",
    "        # Decompose diagonal (two-character) directions into single rules\n",
    "        for char in temp[1]:\n",
    "            direction = dirMap[char]\n",
    "            \n",
    "            # Check that the new rule does not contradict any existing rules\n",
    "            if not isValid(nodes, fromNode, toNode, direction):\n",
    "                return False\n",
    "            \n",
    "            addEdges(nodes, fromNode, toNode, direction)\n",
    "            \n",
    "    return True\n",
    "            \n",
    "            \n",
    "def test():\n",
    "    from pprint import pprint as p\n",
    "\n",
    "    tests = [\n",
    "        ['A N B', 'C SE B', 'C N A'],\n",
    "        ['A NW B', 'A N B'],\n",
    "        ['A N B', 'C N B']\n",
    "    ]\n",
    "\n",
    "    for t in tests:\n",
    "        p(t)\n",
    "        p(str(validate(t)))\n",
    "        print()\n",
    "\n",
    "test()"
   ]
  },
  {
   "cell_type": "markdown",
   "metadata": {},
   "source": [
    "The above solution has the following performance characteristics:\n",
    "- Time complexity: $O(N * |V|) = O(N^2)$, where N is the number of rules.\n",
    "- Space complexity: $O(|V| + |E|) = O(|V| + |V|^2) = O(N^2)$, since we are creating a densely-connected graph."
   ]
  }
 ],
 "metadata": {
  "kernelspec": {
   "display_name": "Python 3 (ipykernel)",
   "language": "python",
   "name": "python3"
  },
  "language_info": {
   "codemirror_mode": {
    "name": "ipython",
    "version": 3
   },
   "file_extension": ".py",
   "mimetype": "text/x-python",
   "name": "python",
   "nbconvert_exporter": "python",
   "pygments_lexer": "ipython3",
   "version": "3.10.1"
  }
 },
 "nbformat": 4,
 "nbformat_minor": 1
}