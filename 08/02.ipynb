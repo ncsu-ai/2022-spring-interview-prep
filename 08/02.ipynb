{
 "cells": [
  {
   "cell_type": "markdown",
   "metadata": {
    "collapsed": true,
    "pycharm": {
     "name": "#%%\n"
    }
   },
   "source": [
    "# Division of Two Natural Numbers (ContextLogic)\n",
    "##### *Algorithms & Data Structures*\n",
    "\n",
    "Implement division of two positive integers without using the division, multiplication, or modulus operators. Return the quotient as an integer, ignoring the remainder."
   ]
  },
  {
   "cell_type": "code",
   "execution_count": null,
   "metadata": {},
   "outputs": [],
   "source": []
  },
  {
   "cell_type": "markdown",
   "metadata": {},
   "source": [
    "### Solution\n",
    "\n",
    "We can start by trying the simplest solution. Define $x$ as the dividend and $y$ as the divisor. To get the quotient, we need to ask how many times we can subtract $y$ from $x$ until the remainder is less than $y$. The number of times we subtract is the resulting quotient $x/y$. The time complexity of this brute force approach is on the order of $x/y$, which can be very high, for example if $x=2^{31}-1$ and $y=1$.\n",
    "\n",
    "Let's instead think about how to perform division on paper. Recall grade-school [long division](https://en.wikipedia.org/wiki/Long_division), where we consider the left-most digit that can be divided by the divisor. At each step, the quotient becomes the first digit of the result, and we subtract the product from the dividend to get the remainder. The remainder is initially the value $x$. We can abstract this process into subtracting the largest multiple of $y * 10^d$ from the remainder, where $d$ is the place of the digit ($d=0$ for the zeroes place). Then we add the multiple times $10^d$ to our result.\n",
    "\n",
    "This process would be straightforward if we had the modulus or multiplication operators. However, we instead can take advantage of the bit shift operators in order to multiply by powers of two, since `a << z` results in `a` multiplied by `2^z` (e.g. `3 << 2 = 12`. Now, we can find the largest $y * 2^d$ that fits within the remainder. As we do in long division, we decrease the possible value of $d$ in each iteration. We start by finding the largest value of $y * 2^d <= x$, then test $y * 2^d,\\ y * 2^{d-1},\\ ...$ until the remainder is less than $y$.\n",
    "\n",
    "For example:"
   ]
  },
  {
   "cell_type": "code",
   "execution_count": null,
   "metadata": {},
   "outputs": [],
   "source": [
    "# (decimal) x = 31,    y = 3\n",
    "# (binary)  x = 11111, y = 0011\n",
    "\n",
    "# y << 3 = 11000   :   11000 <= 11111\n",
    "# y << 4 = 110000   :   110000 > 11111\n",
    "\n",
    "# Select d=3\n",
    "# 11111 - (y << 3) = 11111 - 11000 = 0111\n",
    "# remainder = 0111\n",
    "# quotient = 1 << 3\n",
    "\n",
    "# y << 1 = 0110   :   0110 <= 0111\n",
    "# y << 2 = 1100   :   1100 > 0111\n",
    "\n",
    "# Select d=2\n",
    "# 0111 - (y << 1) = 0111 - 0110 = 0001\n",
    "# remainder = 0001 < 0011 (y)\n",
    "# quotient = (1 << 3) + (1 << 1)\n",
    "\n",
    "# (1 << 3) + (1 << 1) = 1000 + 0010 = 1010(b) = 10(d)"
   ]
  },
  {
   "cell_type": "markdown",
   "metadata": {},
   "source": [
    "Here is the Python implementation:"
   ]
  },
  {
   "cell_type": "code",
   "execution_count": null,
   "metadata": {},
   "outputs": [],
   "source": [
    "def divide(x, y):\n",
    "    if y == 0:\n",
    "        raise ZeroDivisionError('division by zero')\n",
    "\n",
    "    quotient = 0\n",
    "    power = 32           # Assume 32-bit integer\n",
    "    yPower = y << power  # Initial y^d value is y^32\n",
    "    remainder = x        # Initial remainder is x\n",
    "    while remainder >= y:\n",
    "        while yPower > remainder:\n",
    "            yPower >>= 1\n",
    "            power -= 1\n",
    "        quotient += 1 << power\n",
    "        remainder -= yPower\n",
    "\n",
    "    return quotient"
   ]
  },
  {
   "cell_type": "markdown",
   "metadata": {},
   "source": [
    "The time complexity of this solution is $O(N)$, where $N$ is the number of bits used to represent $x/y$, assuming shift and add operations take $O(1)$ time."
   ]
  }
 ],
 "metadata": {
  "kernelspec": {
   "display_name": "Python 3 (ipykernel)",
   "language": "python",
   "name": "python3"
  },
  "language_info": {
   "codemirror_mode": {
    "name": "ipython",
    "version": 3
   },
   "file_extension": ".py",
   "mimetype": "text/x-python",
   "name": "python",
   "nbconvert_exporter": "python",
   "pygments_lexer": "ipython3",
   "version": "3.10.1"
  }
 },
 "nbformat": 4,
 "nbformat_minor": 1
}
