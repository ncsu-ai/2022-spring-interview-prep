{
 "cells": [
  {
   "cell_type": "markdown",
   "metadata": {
    "collapsed": true,
    "pycharm": {
     "name": "#%% md\n"
    }
   },
   "source": [
    "# Valid Parentheses (Google)\n",
    "##### *Algorithms & Data Structures*\n",
    "\n",
    "Given a string of parentheses, write a function to compute the minimum number of parentheses to be removed to make the string valid (i.e. each open parenthesis is eventually closed).\n",
    "\n",
    "For example, given the string `'()())()'`, you should return 1. Given the string `')('`, you should return 2, since both would be removed."
   ]
  },
  {
   "cell_type": "code",
   "execution_count": null,
   "metadata": {},
   "outputs": [],
   "source": []
  },
  {
   "cell_type": "markdown",
   "metadata": {},
   "source": [
    "### Solution\n",
    "\n",
    "For a string to be considered valid, each open parenthesis should eventually be closed. Other parentheses that don't satisfy this condition should be counted as invalid.\n",
    "\n",
    "Whenever we encounter an unmatched closing parenthesis, we can count it as invalid. After that, we also add the number of unmatched opening parentheses to our invalid count. This runs in $O(N)$ time."
   ]
  },
  {
   "cell_type": "code",
   "execution_count": null,
   "outputs": [],
   "source": [
    "def count_invalid_parentheses(string):\n",
    "    opened = 0\n",
    "    invalid = 0\n",
    "\n",
    "    # Count closing parentheses which do not have a corresponding opening parenthesis as invalid\n",
    "    for c in string:\n",
    "        if c == '(':\n",
    "            opened += 1\n",
    "        elif c == ')':\n",
    "            if opened > 0:\n",
    "                opened -= 1\n",
    "            else:\n",
    "                invalid += 1\n",
    "\n",
    "    # Now include all unclosed parentheses in the count of invalid parentheses\n",
    "    invalid += opened\n",
    "\n",
    "    return invalid"
   ],
   "metadata": {
    "collapsed": false,
    "pycharm": {
     "name": "#%%\n"
    }
   }
  }
 ],
 "metadata": {
  "kernelspec": {
   "display_name": "Python 3 (ipykernel)",
   "language": "python",
   "name": "python3"
  },
  "language_info": {
   "codemirror_mode": {
    "name": "ipython",
    "version": 3
   },
   "file_extension": ".py",
   "mimetype": "text/x-python",
   "name": "python",
   "nbconvert_exporter": "python",
   "pygments_lexer": "ipython3",
   "version": "3.10.1"
  }
 },
 "nbformat": 4,
 "nbformat_minor": 1
}