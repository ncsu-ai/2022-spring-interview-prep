{
 "cells": [
  {
   "cell_type": "markdown",
   "metadata": {
    "collapsed": true,
    "pycharm": {
     "name": "#%% md\n"
    }
   },
   "source": [
    "# Net Present Value Queries (Morgan Stanley)\n",
    "##### *SQL*\n",
    "\n",
    "Write an SQL query to find the net present value (NPV) of each query in the Queries table."
   ]
  },
  {
   "cell_type": "code",
   "execution_count": 2,
   "metadata": {
    "scrolled": true
   },
   "outputs": [
    {
     "data": {
      "text/html": [
       "<table style=\"width: 75%;\"><tr><td><img src=\"img/npv.png\"/></td><td><img src=\"img/queries.png\"/></td><td><img src=\"img/result.png\"/></td></tr></table>"
      ],
      "text/plain": [
       "<IPython.core.display.HTML object>"
      ]
     },
     "metadata": {},
     "output_type": "display_data"
    }
   ],
   "source": [
    "from IPython.display import display, HTML\n",
    "display(HTML('<table style=\"width: 75%;\"><tr><td><img src=\"img/npv.png\"/></td><td><img src=\"img/queries.png\"/></td><td><img src=\"img/result.png\"/></td></tr></table>'))"
   ]
  },
  {
   "cell_type": "markdown",
   "metadata": {},
   "source": [
    "Run the following code block to initialize a connection to a pre-prepared SQLite3 database which contains the `NPV` and `Queries` tables from above."
   ]
  },
  {
   "cell_type": "code",
   "execution_count": 1,
   "metadata": {},
   "outputs": [
    {
     "name": "stdout",
     "output_type": "stream",
     "text": [
      "(1, 2018, 100)\n",
      "(7, 2020, 30)\n",
      "(13, 2019, 40)\n",
      "(1, 2019, 113)\n",
      "(2, 2008, 121)\n",
      "(3, 2009, 12)\n",
      "(11, 2020, 99)\n",
      "(7, 2019, 0)\n",
      "(1, 2019)\n",
      "(2, 2008)\n",
      "(3, 2009)\n",
      "(7, 2018)\n",
      "(7, 2019)\n",
      "(7, 2020)\n",
      "(13, 2019)\n"
     ]
    }
   ],
   "source": [
    "import sqlite3\n",
    "\n",
    "con = sqlite3.connect('03.db')\n",
    "for row in con.execute('SELECT * FROM npv'):\n",
    "    print(row)\n",
    "for row in con.execute('SELECT * FROM queries'):\n",
    "    print(row)"
   ]
  },
  {
   "cell_type": "markdown",
   "metadata": {},
   "source": [
    "Then, you can use the following empty code block to formulate your solution for this problem. You can execute SQL commands by calling `con.execute(...)`, passing the method a string containing your SQL query (see the above `for` loop for an example)."
   ]
  },
  {
   "cell_type": "code",
   "execution_count": null,
   "metadata": {},
   "outputs": [],
   "source": [
    "con.execute(...)"
   ]
  },
  {
   "cell_type": "markdown",
   "metadata": {},
   "source": [
    "### Solution"
   ]
  },
  {
   "cell_type": "markdown",
   "metadata": {},
   "source": [
    "This solution employs the [SQL COALESCE function](https://www.postgresqltutorial.com/postgresql-coalesce/)."
   ]
  },
  {
   "cell_type": "code",
   "execution_count": 2,
   "metadata": {
    "pycharm": {
     "name": "#%%\n"
    }
   },
   "outputs": [
    {
     "name": "stdout",
     "output_type": "stream",
     "text": [
      "[(1, 2019, 113), (2, 2008, 121), (3, 2009, 12), (7, 2018, 0), (7, 2019, 0), (7, 2020, 30), (13, 2019, 40)]\n"
     ]
    }
   ],
   "source": [
    "print(con.execute('''\n",
    "select q.id, q.year, coalesce(n.npv, 0) as npv\n",
    "from queries q\n",
    "left join npv n\n",
    "on q.id = n.id and q.year = n.year\n",
    "''').fetchall())"
   ]
  }
 ],
 "metadata": {
  "kernelspec": {
   "display_name": "Python 3 (ipykernel)",
   "language": "python",
   "name": "python3"
  },
  "language_info": {
   "codemirror_mode": {
    "name": "ipython",
    "version": 3
   },
   "file_extension": ".py",
   "mimetype": "text/x-python",
   "name": "python",
   "nbconvert_exporter": "python",
   "pygments_lexer": "ipython3",
   "version": "3.10.1"
  }
 },
 "nbformat": 4,
 "nbformat_minor": 1
}
