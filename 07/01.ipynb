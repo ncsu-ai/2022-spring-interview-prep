{
 "cells": [
  {
   "cell_type": "markdown",
   "metadata": {
    "collapsed": true,
    "pycharm": {
     "name": "#%% md\n"
    }
   },
   "source": [
    "# Matrix \"Islands\" (Amazon)\n",
    "##### *Algorithms & Data Structures*\n",
    "\n",
    "Given a matrix of `1`s and `0`s, return the number of \"islands\" in the matrix. A `1` represents land and `0` represents water, so an island is a group of `1`s that are neighboring whose perimeter is surrounded by water.\n",
    "\n",
    "For example, the matrix below has 4 islands."
   ]
  },
  {
   "cell_type": "code",
   "execution_count": 2,
   "metadata": {},
   "outputs": [
    {
     "data": {
      "text/html": [
       "<table><tr><td><img src=\"img/islands.png\"/></td></tr></table>"
      ],
      "text/plain": [
       "<IPython.core.display.HTML object>"
      ]
     },
     "metadata": {},
     "output_type": "display_data"
    }
   ],
   "source": [
    "from IPython.display import display, HTML\n",
    "display(HTML('<table><tr><td><img src=\"img/islands.png\"/></td></tr></table>'))"
   ]
  },
  {
   "cell_type": "code",
   "execution_count": null,
   "metadata": {},
   "outputs": [],
   "source": []
  },
  {
   "cell_type": "markdown",
   "metadata": {},
   "source": [
    "### Solution\n",
    "\n",
    "In each call of `BFS(...)`, a component or a sub-graph is visited. We will call `BFS(...)` on the next un-visited component. The number of calls to `BFS(...)` gives the number of connected components.\n",
    "\n",
    "A cell in a 2D matrix can be connected to 8 neighbors, so, unlike standard breadth-first search (BFS) where we process all adjacent vertices, we simply process each of the 8 neighbors. We keep track of the visited `1`s so that they are not visited again."
   ]
  },
  {
   "cell_type": "code",
   "execution_count": 14,
   "metadata": {
    "pycharm": {
     "name": "#%%\n"
    }
   },
   "outputs": [],
   "source": [
    "from collections import deque\n",
    "\n",
    "# Checks if a given cell (i, j) can be included in the breadth-first search\n",
    "def isSafe(mat, i, j, vis):\n",
    "    return 0 <= i < len(mat) and 0 <= j < len(mat[0]) and mat[i][j] and not vis[i][j]\n",
    "\n",
    "\n",
    "# Performs a breadth-first search of a starting position's neighbors, marking all visited neighbors as such\n",
    "def bfs(mat, vis, si, sj):\n",
    "    # Define arrays containing position offsets for traversing the 8 neighbors of the starting position\n",
    "    row = [-1, -1, -1, 0, 0, 1, 1, 1]\n",
    "    col = [-1, 0, 1, -1, 1, -1, 0, 1]\n",
    "\n",
    "    # Start of BFS algorithm; enqueue source position and mark it as visited\n",
    "    q = deque()\n",
    "    q.append([si, sj])\n",
    "    vis[si][sj] = True\n",
    "\n",
    "    # Remove one position from the queue at a time, visiting all 8 of its neighbors and adding each to the\n",
    "    # queue (skipping positions that have already been visited or which contain a 0\n",
    "    while len(q) > 0:\n",
    "        # Retrieve the row and column indices for the current position\n",
    "        temp = q.popleft()\n",
    "        i, j = temp[0], temp[1]\n",
    "\n",
    "        # Iterate through the position's 8 neighbors\n",
    "        for k in range(8):\n",
    "            if isSafe(mat, i + row[k], j + col[k], vis):\n",
    "                # Visit the current neighbor and add it to the queue if the indices are valid, it is unvisited,\n",
    "                # and it contains a 1\n",
    "                vis[i + row[k]][j + col[k]] = True\n",
    "                q.append([i + row[k], j + col[k]])\n",
    "\n",
    "\n",
    "# Returns the total number of islands (connected components) in a graph by performing breadth-first search. The\n",
    "# number of islands in the input matrix corresponds to the number of calls to bfs(...)\n",
    "def countIslands(mat):\n",
    "    rows = len(mat)\n",
    "    cols = len(mat[0])\n",
    "\n",
    "    # Keep track of which cells in the graph have been visited\n",
    "    vis = [[False for _ in range(cols)] for _ in range(rows)]\n",
    "\n",
    "    # Store the number of top-level (non-recursive) calls to the BFS function (i.e., number of islands)\n",
    "    res = 0\n",
    "\n",
    "    # Call BFS for every unvisited vertex\n",
    "    for i in range(rows):\n",
    "        for j in range(cols):\n",
    "            if mat[i][j] and not vis[i][j]:\n",
    "                bfs(mat, vis, i, j)\n",
    "                res += 1\n",
    "\n",
    "    # Return the number of islands encountered\n",
    "    return res"
   ]
  },
  {
   "cell_type": "code",
   "execution_count": 15,
   "metadata": {
    "pycharm": {
     "name": "#%%\n"
    }
   },
   "outputs": [
    {
     "name": "stdout",
     "output_type": "stream",
     "text": [
      "4\n"
     ]
    }
   ],
   "source": [
    "print(countIslands([\n",
    "    [1, 0, 0, 0, 0],\n",
    "    [0, 0, 1, 1, 0],\n",
    "    [0, 1, 1, 0, 0],\n",
    "    [0, 0, 0, 0, 0],\n",
    "    [1, 1, 0, 0, 1],\n",
    "    [1, 1, 0, 0, 1],\n",
    "]))"
   ]
  }
 ],
 "metadata": {
  "kernelspec": {
   "display_name": "Python 3 (ipykernel)",
   "language": "python",
   "name": "python3"
  },
  "language_info": {
   "codemirror_mode": {
    "name": "ipython",
    "version": 3
   },
   "file_extension": ".py",
   "mimetype": "text/x-python",
   "name": "python",
   "nbconvert_exporter": "python",
   "pygments_lexer": "ipython3",
   "version": "3.10.1"
  }
 },
 "nbformat": 4,
 "nbformat_minor": 1
}