{
 "cells": [
  {
   "cell_type": "markdown",
   "metadata": {
    "collapsed": true,
    "pycharm": {
     "name": "#%%\n"
    }
   },
   "source": [
    "# Depth-First Search (Google)\n",
    "##### *Algorithms & Data Structures*\n",
    "\n",
    "In a directed graph, each node is assigned an uppercase letter. We define a path’s value as the number of the most frequently-occurring letter along that path.\n",
    "\n",
    "Given a graph with `n` nodes and `m` directed edges, return the largest value path of the graph.\n",
    "\n",
    "The graph is represented with a string and an edge list. The `i`th character represents the uppercase letter of the `i`th node. Each tuple in the edge list `(i, j)` means there is a directed edge from the `i`th node to the `j`th node. Self edges and multi-edges are possible."
   ]
  },
  {
   "cell_type": "code",
   "execution_count": null,
   "metadata": {},
   "outputs": [],
   "source": []
  },
  {
   "cell_type": "markdown",
   "metadata": {},
   "source": [
    "### Solution\n",
    "\n",
    "Solution body"
   ]
  }
 ],
 "metadata": {
  "kernelspec": {
   "display_name": "Python 3 (ipykernel)",
   "language": "python",
   "name": "python3"
  },
  "language_info": {
   "codemirror_mode": {
    "name": "ipython",
    "version": 3
   },
   "file_extension": ".py",
   "mimetype": "text/x-python",
   "name": "python",
   "nbconvert_exporter": "python",
   "pygments_lexer": "ipython3",
   "version": "3.10.1"
  }
 },
 "nbformat": 4,
 "nbformat_minor": 1
}
