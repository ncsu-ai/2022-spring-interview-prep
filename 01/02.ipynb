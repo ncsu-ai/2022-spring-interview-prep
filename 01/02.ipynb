{
 "cells": [
  {
   "cell_type": "markdown",
   "metadata": {
    "collapsed": true,
    "pycharm": {
     "name": "#%%\n"
    }
   },
   "source": [
    "# Largest Value Path of Graph (Google)\n",
    "##### *Algorithms & Data Structures*\n",
    "\n",
    "In a directed graph, each node is assigned an uppercase letter. We define a path’s value as the number of the most frequently-occurring letter along that path.\n",
    "\n",
    "Given a graph with `n` nodes and `m` directed edges, return the largest value path of the graph.\n",
    "\n",
    "The graph is represented with a string and an edge list. The `i`th character represents the uppercase letter of the `i`th node. Each tuple in the edge list `(i, j)` means there is a directed edge from the `i`th node to the `j`th node. Self edges and multi-edges are possible."
   ]
  },
  {
   "cell_type": "code",
   "execution_count": null,
   "metadata": {},
   "outputs": [],
   "source": []
  },
  {
   "cell_type": "markdown",
   "metadata": {},
   "source": [
    "### Solution\n",
    "\n",
    "The naive solution here would be to try every single path from every vertex, count up each path's value and keep track of the maximum value we've seen. To do this, we can use depth-first search (DFS) to try every path as well as return `None` if we come across a cycle. The [Counter](https://docs.python.org/3/library/collections.html#collections.Counter) module in Python is quite handy in this case:"
   ]
  },
  {
   "cell_type": "code",
   "execution_count": 1,
   "metadata": {},
   "outputs": [],
   "source": [
    "from collections import Counter\n",
    "\n",
    "def max_path(s, lst):\n",
    "    adj = [[] for v in s]\n",
    "    \n",
    "    # Build adjacency list\n",
    "    for u, v in lst:\n",
    "        adj[u].append(v)\n",
    "    \n",
    "    maximum_path = 0\n",
    "    \n",
    "    # Try every path from node `v`\n",
    "    for v in range(len(s)):\n",
    "        # Every item in this stack has the form: (path_string, visited, current_node)\n",
    "        stack = [(s[v], set([v]), v)]\n",
    "        \n",
    "        while stack:\n",
    "            path_string, visited, current_node = stack.pop()\n",
    "            \n",
    "            # Count value of current path and update maximum path if necessary\n",
    "            cnt = Counter(path_string)\n",
    "            _, path_val = cnt.most_common(1)[0]\n",
    "            maximum_path = max(maximum_path, path_val)\n",
    "            \n",
    "            for neighbor in adj[current_node]:\n",
    "                if neighbor in visited:\n",
    "                    # There is a cycle\n",
    "                    return None\n",
    "                \n",
    "                stack.append((path_string + s[neighbor], visited.union([neighbor]), neighbor))\n",
    "    \n",
    "    return maximum_path"
   ]
  },
  {
   "cell_type": "markdown",
   "metadata": {},
   "source": [
    "This solution, however, would be terribly slow. DFS is `O(V+E)`, where `V` and `E` are the number of vertices and edges, respectively. Since we also evaluate the current path each time, our algorithm is `O(V*(V+E))`. Let's try to improve this runtime.\n",
    "\n",
    "Notice that we're recomputing the whole path on each iteration. This is inefficient since, for example, only one character could change, so we should only need to increment that one character. This sounds like a good problem for dynamic programming.\n",
    "\n",
    "Furthermore, notice that since we're using the alphabet of uppercase characters, we have a fixed number (26) of potential values that contribute to the longest chain.\n",
    "\n",
    "Let's keep a matrix of size `N` by 26. `A[i][j]` will contain the maximum value of the path that can be made from the character `i` (where `i` will index into the alphabet, so `A=0`, `B=1`, etc. Then we'll use the following recurrence to keep track of the path with the largest value:\n",
    "- When we get to a node `v`, we'll do DFS on all its neighbors\n",
    "- Then, `A[v][j]` will be the maximum of all `A[neighbor][j]` for all its neighbors\n",
    "- Then, we also need to count the current node too, so increment `A[v][current_char]` by one, where `current_char` is the current node's assigned letter\n",
    "\n",
    "We will use DFS, like before, to actually search the graph as well as to determine if we have a cycle."
   ]
  },
  {
   "cell_type": "code",
   "execution_count": null,
   "metadata": {},
   "outputs": [],
   "source": [
    "VISITED = 0\n",
    "UNVISITED = 1\n",
    "VISITING = 2\n",
    "\n",
    "def max_path(s, lst):\n",
    "    adj = [[] for v in s]\n",
    "    \n",
    "    # Build adjacency list\n",
    "    for u, v in lst:\n",
    "        adj[u].append(v)\n",
    "        \n",
    "    # Create matrix cache\n",
    "    dp = [[0 for _ in range(26)] for _ in range(len(s))]\n",
    "    state = {v: UNVISITED for v in range(len(s))}\n",
    "    \n",
    "    # Define function for carrying out depth first search\n",
    "    def dfs(v):\n",
    "        state[v] = VISITING\n",
    "        for neighbor in adj[v]:\n",
    "            if state[neighbor] == VISITING:\n",
    "                # We have a cycle\n",
    "                return True\n",
    "            \n",
    "            dfs(neighbor)\n",
    "            for i in range(26):\n",
    "                dp[v][i] = dp[neighbor][i]\n",
    "        \n",
    "        current_char = ord(s[v]) - ord('A')\n",
    "        dp[v][current_char] += 1\n",
    "        state[v] = VISITED\n",
    "\n",
    "    # Run DFS on graph\n",
    "    for v in range(len(s)):\n",
    "        if state[v] == UNVISITED:\n",
    "            # The DFS function returns True if a cycle is found in the graph\n",
    "            if dfs(v):\n",
    "                return None\n",
    "            \n",
    "    return max(max(v for v in node) for node in dp)"
   ]
  },
  {
   "cell_type": "markdown",
   "metadata": {},
   "source": [
    "Our revised solution will now run in just `O(V+E)` time, which is the same time complexity as standalone depth-first search."
   ]
  }
 ],
 "metadata": {
  "kernelspec": {
   "display_name": "Python 3 (ipykernel)",
   "language": "python",
   "name": "python3"
  },
  "language_info": {
   "codemirror_mode": {
    "name": "ipython",
    "version": 3
   },
   "file_extension": ".py",
   "mimetype": "text/x-python",
   "name": "python",
   "nbconvert_exporter": "python",
   "pygments_lexer": "ipython3",
   "version": "3.10.1"
  }
 },
 "nbformat": 4,
 "nbformat_minor": 1
}
