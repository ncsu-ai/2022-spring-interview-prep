{
 "cells": [
  {
   "cell_type": "markdown",
   "metadata": {
    "collapsed": true,
    "pycharm": {
     "name": "#%%\n"
    }
   },
   "source": [
    "# Recursion (Two Sigma)\n",
    "##### *Algorithms & Data Structures*\n",
    "\n",
    "Using a function `rand7()` that returns an integer from 1 to 7 (inclusive) with uniform probability, implement a function `rand5()` that returns an integer from 1 to 5 (inclusive)."
   ]
  },
  {
   "cell_type": "code",
   "execution_count": null,
   "metadata": {},
   "outputs": [],
   "source": []
  },
  {
   "cell_type": "markdown",
   "metadata": {},
   "source": [
    "### Solution\n",
    "\n",
    "This problem is simpler than going from `rand5()` to `rand7()`. We'll do something similar:\n",
    "- Roll `rand7()`\n",
    "- If the result is between 1 and 5, then return it.\n",
    "- If the result is 6 or 7, then reroll.\n",
    "\n",
    "Since the distribution of `[1, 5]` is uniform, each has a 1 in 7 chance of being rolled. Thus, our `rand5()` function will also follow a uniform distribution."
   ]
  },
  {
   "cell_type": "code",
   "execution_count": null,
   "metadata": {},
   "outputs": [],
   "source": [
    "def rand5():\n",
    "    r = rand7()\n",
    "    if 1 <= r <= 5:\n",
    "        return r\n",
    "    \n",
    "    return rand5()"
   ]
  },
  {
   "cell_type": "markdown",
   "metadata": {},
   "source": [
    "This solution could potentially run forever (although with a very low probability), if we repeatedly get 6 or 7."
   ]
  }
 ],
 "metadata": {
  "kernelspec": {
   "display_name": "Python 3 (ipykernel)",
   "language": "python",
   "name": "python3"
  },
  "language_info": {
   "codemirror_mode": {
    "name": "ipython",
    "version": 3
   },
   "file_extension": ".py",
   "mimetype": "text/x-python",
   "name": "python",
   "nbconvert_exporter": "python",
   "pygments_lexer": "ipython3",
   "version": "3.10.1"
  }
 },
 "nbformat": 4,
 "nbformat_minor": 1
}