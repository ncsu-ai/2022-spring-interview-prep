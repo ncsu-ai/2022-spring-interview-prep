{
 "cells": [
  {
   "cell_type": "markdown",
   "metadata": {
    "collapsed": true,
    "pycharm": {
     "name": "#%%\n"
    }
   },
   "source": [
    "# Manager With at Least 5 Direct Reports (Visa)\n",
    "##### *SQL*\n",
    "\n",
    "Given the Employee table, write a SQL query that finds out managers with at least 5 direct reports."
   ]
  },
  {
   "cell_type": "code",
   "execution_count": 10,
   "metadata": {},
   "outputs": [
    {
     "data": {
      "text/html": [
       "<table><tr><td><img src=\"img/employee.jpg\"/></td><td><img src=\"img/result.jpg\"/></td></tr></table>"
      ],
      "text/plain": [
       "<IPython.core.display.HTML object>"
      ]
     },
     "metadata": {},
     "output_type": "display_data"
    }
   ],
   "source": [
    "from IPython.display import display, HTML\n",
    "display(HTML('<table><tr><td><img src=\"img/employee.jpg\"/></td><td><img src=\"img/result.jpg\"/></td></tr></table>'))"
   ]
  },
  {
   "cell_type": "markdown",
   "metadata": {},
   "source": [
    "Run the following code block to initialize a connection to a pre-prepared SQLite3 database which contains the `Employee` table from above."
   ]
  },
  {
   "cell_type": "code",
   "execution_count": 12,
   "metadata": {},
   "outputs": [
    {
     "name": "stdout",
     "output_type": "stream",
     "text": [
      "(1, 'Rick', None)\n",
      "(2, 'Rob', None)\n",
      "(3, 'Charlie', 1)\n",
      "(4, 'Meghan', 2)\n",
      "(5, 'Casey', 1)\n",
      "(6, 'Everett', 2)\n",
      "(7, 'Elliot', 1)\n",
      "(8, 'Bruce', 1)\n",
      "(9, 'Ethan', 1)\n"
     ]
    }
   ],
   "source": [
    "import sqlite3\n",
    "\n",
    "con = sqlite3.connect('03.db')\n",
    "for row in con.execute('SELECT * FROM employee'):\n",
    "    print(row)"
   ]
  },
  {
   "cell_type": "markdown",
   "metadata": {},
   "source": [
    "Then, you can use the following empty code block to formulate your solution for this problem. You can execute SQL commands by calling `con.execute(...)`, passing the method a string containing your SQL query (see the above `for` loop for an example)."
   ]
  },
  {
   "cell_type": "code",
   "execution_count": null,
   "metadata": {},
   "outputs": [],
   "source": [
    "con.execute(...)"
   ]
  },
  {
   "cell_type": "markdown",
   "metadata": {},
   "source": [
    "### Solution"
   ]
  },
  {
   "cell_type": "code",
   "execution_count": 13,
   "metadata": {},
   "outputs": [
    {
     "name": "stdout",
     "output_type": "stream",
     "text": [
      "[('Rick',)]\n"
     ]
    }
   ],
   "source": [
    "print(con.execute('''\n",
    "with t1 as (\n",
    "    select managerId, count(name) as total\n",
    "    from employee\n",
    "    group by managerId\n",
    ")\n",
    "select e.name\n",
    "from t1\n",
    "join employee e\n",
    "on t1.managerId = e.id\n",
    "where t1.total >= 5\n",
    "''').fetchall())"
   ]
  }
 ],
 "metadata": {
  "kernelspec": {
   "display_name": "Python 3 (ipykernel)",
   "language": "python",
   "name": "python3"
  },
  "language_info": {
   "codemirror_mode": {
    "name": "ipython",
    "version": 3
   },
   "file_extension": ".py",
   "mimetype": "text/x-python",
   "name": "python",
   "nbconvert_exporter": "python",
   "pygments_lexer": "ipython3",
   "version": "3.10.1"
  }
 },
 "nbformat": 4,
 "nbformat_minor": 1
}
