{
 "cells": [
  {
   "cell_type": "markdown",
   "metadata": {
    "collapsed": true,
    "pycharm": {
     "name": "#%%\n"
    }
   },
   "source": [
    "# Mapping Digits to Letters/Strings (Yelp)\n",
    "##### *Algorithms & Data Structures*\n",
    "\n",
    "Given a mapping of digits to letters (as in a phone number), and a digit string, return all possible letters the numbers could represent.\n",
    "For example if `{'2': ['a', 'b', 'c'], '3': ['d', 'e', 'f'], ...}` then a digit string of `'23'` should return `['ad', 'ae', 'af', 'bd', 'be', 'bf', 'cd', 'ce', 'cf']`."
   ]
  },
  {
   "cell_type": "code",
   "execution_count": null,
   "metadata": {},
   "outputs": [],
   "source": []
  },
  {
   "cell_type": "markdown",
   "metadata": {},
   "source": [
    "### Solution\n",
    "\n",
    "There is a relatively straight forward substructure to this problem.\n",
    "\n",
    "Let's assume that we knew the result of the function with the same digits except the first character. Then, we could reconstruct the final result by: for each character the first digit maps to, prepend that character to each permutation from the recursive call.\n",
    "\n",
    "For example, if the digits are `'12'`, and the mapping is `{'1': ['a', 'b', 'c'], '2': ['d', 'e', 'f']}` then, without the first digit, the result would be `['d', 'e', 'f']`. If we prepend 'a', 'b', and 'c', to each permutation, we would get `['ad', 'ae', 'af', 'bd', 'be', 'bf', 'cd', 'ce', 'cf']`."
   ]
  },
  {
   "cell_type": "code",
   "execution_count": null,
   "metadata": {},
   "outputs": [],
   "source": [
    "def get_permutations(digits, mapping):\n",
    "    digit = digits[0]\n",
    "\n",
    "    if len(digits) == 1:\n",
    "        return mapping[digit]\n",
    "\n",
    "    result = []\n",
    "    for char in mapping[digit]:\n",
    "        for perm in get_permutations(digits[1:], mapping):\n",
    "            result.append(char + perm)\n",
    "\n",
    "    return result"
   ]
  }
 ],
 "metadata": {
  "kernelspec": {
   "display_name": "Python 3 (ipykernel)",
   "language": "python",
   "name": "python3"
  },
  "language_info": {
   "codemirror_mode": {
    "name": "ipython",
    "version": 3
   },
   "file_extension": ".py",
   "mimetype": "text/x-python",
   "name": "python",
   "nbconvert_exporter": "python",
   "pygments_lexer": "ipython3",
   "version": "3.10.1"
  }
 },
 "nbformat": 4,
 "nbformat_minor": 1
}
