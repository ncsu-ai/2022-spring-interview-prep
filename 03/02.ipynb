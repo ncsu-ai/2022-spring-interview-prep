{
 "cells": [
  {
   "cell_type": "markdown",
   "metadata": {
    "collapsed": true,
    "pycharm": {
     "name": "#%%\n"
    }
   },
   "source": [
    "# Order 2D Matrix Top to Bottom Lexicographically (Google)\n",
    "##### *Algorithms & Data Structures*\n",
    "\n",
    "You are given an `N` by `N` matrix of lowercase letters. Determine the minimum number of columns that can be removed to ensure that each row is ordered from top to bottom lexicographically. That is, the letter at each column is lexicographically later as you go down each row. It does not matter whether each row itself is ordered lexicographically.\n",
    "\n",
    "For example, given the following table: `cba / daf / ghi`. This is not ordered because of the `a` in the center. We can remove the second column to make it ordered: `ca / df / gi`. So your function should return 1, since we only needed to remove 1 column.\n"
   ]
  },
  {
   "cell_type": "code",
   "execution_count": null,
   "metadata": {},
   "outputs": [],
   "source": [
    "[\n",
    "    c, b, a\n",
    "    d, a, f\n",
    "    g, h, i\n",
    "]\n",
    "\n",
    "[\n",
    "    c, a\n",
    "    d, f\n",
    "    g, i\n",
    "]"
   ]
  },
  {
   "cell_type": "markdown",
   "metadata": {},
   "source": [
    "### Solution\n",
    "\n",
    "For this problem, we can look at each column, check whether it is ordered correctly, and remove it if it's improperly sorted:"
   ]
  },
  {
   "cell_type": "code",
   "execution_count": null,
   "metadata": {},
   "outputs": [],
   "source": [
    "def bad_cols(board):\n",
    "    num_bad_cols = 0\n",
    "    num_cols = len(board[0])\n",
    "    \n",
    "    i = 0\n",
    "    while i < num_cols:\n",
    "        if is_sorted_up_to(board, i):\n",
    "            i += 1\n",
    "        else:\n",
    "            remove_col(board, i)\n",
    "            num_bad_cols += 1\n",
    "            num_cols -= 1\n",
    "\n",
    "    return num_bad_cols\n",
    "\n",
    "def remove_col(board, i):\n",
    "    for row in board:\n",
    "        row.pop(i)\n",
    "\n",
    "def is_sorted_up_to(board, i):\n",
    "    '''Returns whether the table is sorted in lexicographic order up to column i.'''\n",
    "    return all(board[r][:i + 1] <= board[r + 1][:i + 1] for r in range(len(board) - 1))"
   ]
  },
  {
   "cell_type": "markdown",
   "metadata": {},
   "source": [
    "Recall that we have `M` rows and `N` columns. We're iterating over each column, and checking that all the rows are sorted up to that column, so this runs in $O(N^2 * M)$ time."
   ]
  }
 ],
 "metadata": {
  "kernelspec": {
   "display_name": "Python 3 (ipykernel)",
   "language": "python",
   "name": "python3"
  },
  "language_info": {
   "codemirror_mode": {
    "name": "ipython",
    "version": 3
   },
   "file_extension": ".py",
   "mimetype": "text/x-python",
   "name": "python",
   "nbconvert_exporter": "python",
   "pygments_lexer": "ipython3",
   "version": "3.10.1"
  }
 },
 "nbformat": 4,
 "nbformat_minor": 1
}
