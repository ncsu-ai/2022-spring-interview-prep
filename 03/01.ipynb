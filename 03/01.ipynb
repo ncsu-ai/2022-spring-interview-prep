{
 "cells": [
  {
   "cell_type": "markdown",
   "metadata": {
    "collapsed": true,
    "pycharm": {
     "name": "#%%\n"
    }
   },
   "source": [
    "# Longest Increasing Subsequence Array (Microsoft)\n",
    "##### *Algorithms & Data Structures*\n",
    "\n",
    "Given an array of numbers, find the length of the longest increasing subsequence in the array.\n",
    "\n",
    "For example, given the array `[0, 8, 4, 12, 2, 10, 6, 14, 1, 9, 5, 13, 3, 11, 7, 15]`, the longest increasing subsequence has length 6: it is `[0, 2, 6, 9, 11, 15]`."
   ]
  },
  {
   "cell_type": "code",
   "execution_count": null,
   "metadata": {},
   "outputs": [],
   "source": []
  },
  {
   "cell_type": "markdown",
   "metadata": {},
   "source": [
    "### Solution\n",
    "\n",
    "The naive, brute force way to solve this problem is to generate each possible subsequence, testing each one for monotonicity, and keeping track of the longest one. That would be prohibitively expensive: generating each subsequence already takes $O(2^N)$ time!\n",
    "\n",
    "Instead, let's try to tackle this problem using recursion and then optimize it with dynamic programming.\n",
    "\n",
    "Assume that we already have a function that gives us the length of the longest increasing subsequence. Then we'll try to feed some part of our input array back to it and try to extend the result. Our base cases are: an empty list (where we return 0) and an array with one element (where we return 1).\n",
    "\n",
    "Then,\n",
    "- For every index `i` up until the second to last element, calculate `longest_increasing_subsequence` up to there\n",
    "- We can only extend the result with the last element if our last element is greater than `arr[i]` (otherwise, it's not increasing)\n",
    "- Keep track of the largest result"
   ]
  },
  {
   "cell_type": "code",
   "execution_count": null,
   "metadata": {},
   "outputs": [],
   "source": [
    "def longest_increasing_subsequence(arr):\n",
    "    if not arr:\n",
    "        return 0\n",
    "    if len(arr) == 1:\n",
    "        return 1\n",
    "\n",
    "    max_ending_here = 0\n",
    "    for i in range(len(arr)):\n",
    "        ending_at_i = longest_increasing_subsequence(arr[:i])\n",
    "        if arr[-1] > arr[i - 1] and ending_at_i + 1 > max_ending_here:\n",
    "            max_ending_here = ending_at_i + 1\n",
    "    \n",
    "    return max_ending_here"
   ]
  },
  {
   "cell_type": "markdown",
   "metadata": {},
   "source": [
    "This is very slow due to repeated subcomputations which are exponential in time. So, let's use dynamic programming to store values for later computations.\n",
    "\n",
    "We'll keep an array `A` of length `N`, where `A[i]` will contain the length of the longest increasing subsequence ending at `i`. We can then use the same recurrence, but look it up in the array instead:"
   ]
  },
  {
   "cell_type": "code",
   "execution_count": null,
   "metadata": {},
   "outputs": [],
   "source": [
    "def longest_increasing_subsequence(arr):\n",
    "    if not arr:\n",
    "        return 0\n",
    "    \n",
    "    cache = [1] * len(arr)\n",
    "    for i in range(1, len(arr)):\n",
    "        for j in range(i):\n",
    "            if arr[i] > arr[j]:\n",
    "                cache[i] = max(cache[i], cache[j] + 1)\n",
    "                \n",
    "    return max(cache)"
   ]
  },
  {
   "cell_type": "markdown",
   "metadata": {},
   "source": [
    "This now runs in $O(N^2)$ time and $O(N)$ space."
   ]
  }
 ],
 "metadata": {
  "kernelspec": {
   "display_name": "Python 3 (ipykernel)",
   "language": "python",
   "name": "python3"
  },
  "language_info": {
   "codemirror_mode": {
    "name": "ipython",
    "version": 3
   },
   "file_extension": ".py",
   "mimetype": "text/x-python",
   "name": "python",
   "nbconvert_exporter": "python",
   "pygments_lexer": "ipython3",
   "version": "3.10.1"
  }
 },
 "nbformat": 4,
 "nbformat_minor": 1
}
