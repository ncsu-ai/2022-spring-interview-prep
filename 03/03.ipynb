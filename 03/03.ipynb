{
 "cells": [
  {
   "cell_type": "markdown",
   "metadata": {
    "collapsed": true,
    "pycharm": {
     "name": "#%%\n"
    }
   },
   "source": [
    "# Active Businesses (Capital One)\n",
    "##### *SQL*\n",
    "\n",
    "Write an SQL query to find all active businesses. An active business is a business that has more than one event type with occurrences greater than the average occurrences of that event type among all businesses."
   ]
  },
  {
   "cell_type": "code",
   "execution_count": 1,
   "metadata": {},
   "outputs": [
    {
     "data": {
      "text/html": [
       "<table><tr><td><img src=\"img/table.jpg\"/></td><td><img src=\"img/result.jpg\"/></td></tr></table>"
      ],
      "text/plain": [
       "<IPython.core.display.HTML object>"
      ]
     },
     "metadata": {},
     "output_type": "display_data"
    }
   ],
   "source": [
    "from IPython.display import display, HTML\n",
    "display(HTML('<table><tr><td><img src=\"img/table.jpg\"/></td><td><img src=\"img/result.jpg\"/></td></tr></table>'))"
   ]
  },
  {
   "cell_type": "markdown",
   "metadata": {},
   "source": [
    "Run the following code block to initialize a connection to a pre-prepared SQLite3 database which contains the `Events` table from above."
   ]
  },
  {
   "cell_type": "code",
   "execution_count": 3,
   "metadata": {},
   "outputs": [
    {
     "name": "stdout",
     "output_type": "stream",
     "text": [
      "(1, '5k run', 7)\n",
      "(1, 'charity', 23)\n",
      "(2, 'meeting', 12)\n",
      "(3, '5k run', 3)\n",
      "(4, '5k run', 2)\n",
      "(5, 'charity', 9)\n",
      "(6, 'charity', 11)\n"
     ]
    }
   ],
   "source": [
    "import sqlite3\n",
    "\n",
    "con = sqlite3.connect('03.db')\n",
    "for row in con.execute('SELECT * FROM events'):\n",
    "    print(row)"
   ]
  },
  {
   "cell_type": "markdown",
   "metadata": {},
   "source": [
    "Then, you can use the following empty code block to formulate your solution for this problem. You can execute SQL commands by calling `con.execute(...)`, passing the method a string containing your SQL query (see the above `for` loop for an example)."
   ]
  },
  {
   "cell_type": "code",
   "execution_count": null,
   "metadata": {},
   "outputs": [],
   "source": [
    "con.execute(...)"
   ]
  },
  {
   "cell_type": "markdown",
   "metadata": {},
   "source": [
    "### Solution"
   ]
  },
  {
   "cell_type": "code",
   "execution_count": 5,
   "metadata": {},
   "outputs": [
    {
     "name": "stdout",
     "output_type": "stream",
     "text": [
      "[(1,)]\n"
     ]
    }
   ],
   "source": [
    "print(con.execute('''\n",
    "select c.business_id\n",
    "from (\n",
    "    select *\n",
    "    from events e\n",
    "    join (\n",
    "        select event_type as event, round(avg(occurrences), 2) as average\n",
    "        from events\n",
    "        group by event_type\n",
    "    ) b\n",
    "    on e.event_type = b.event\n",
    ") c\n",
    "where c.occurrences > c.average\n",
    "group by c.business_id\n",
    "having count(*) > 1\n",
    "''').fetchall())"
   ]
  }
 ],
 "metadata": {
  "kernelspec": {
   "display_name": "Python 3 (ipykernel)",
   "language": "python",
   "name": "python3"
  },
  "language_info": {
   "codemirror_mode": {
    "name": "ipython",
    "version": 3
   },
   "file_extension": ".py",
   "mimetype": "text/x-python",
   "name": "python",
   "nbconvert_exporter": "python",
   "pygments_lexer": "ipython3",
   "version": "3.10.1"
  }
 },
 "nbformat": 4,
 "nbformat_minor": 1
}