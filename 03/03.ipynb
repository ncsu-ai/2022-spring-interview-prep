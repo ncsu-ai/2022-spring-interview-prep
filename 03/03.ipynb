{
 "cells": [
  {
   "cell_type": "markdown",
   "metadata": {
    "collapsed": true,
    "pycharm": {
     "name": "#%%\n"
    }
   },
   "source": [
    "# Active Businesses (Capital One)\n",
    "##### *SQL*\n",
    "\n",
    "Write an SQL query to find all active businesses. An active business is a business that has more than one event type with occurrences greater than the average occurrences of that event type among all businesses."
   ]
  },
  {
   "cell_type": "code",
   "execution_count": null,
   "metadata": {},
   "outputs": [],
   "source": []
  },
  {
   "cell_type": "markdown",
   "metadata": {},
   "source": [
    "### Solution"
   ]
  },
  {
   "cell_type": "code",
   "execution_count": 1,
   "metadata": {},
   "outputs": [
    {
     "data": {
      "text/plain": [
       "'\\nselect c.business_id\\nfrom (\\n    select *\\n    from events e\\n    join (\\n        select event_type as event, round(avg(occurrences), 2) as average\\n        from events\\n        group by event_type\\n    ) b\\n    on e.event_type = b.event\\n) c\\nwhere c.occurrences > c.average\\ngroup by c.business_id\\nhaving count(*) > 1\\n'"
      ]
     },
     "execution_count": 1,
     "metadata": {},
     "output_type": "execute_result"
    }
   ],
   "source": [
    "'''\n",
    "select c.business_id\n",
    "from (\n",
    "    select *\n",
    "    from events e\n",
    "    join (\n",
    "        select event_type as event, round(avg(occurrences), 2) as average\n",
    "        from events\n",
    "        group by event_type\n",
    "    ) b\n",
    "    on e.event_type = b.event\n",
    ") c\n",
    "where c.occurrences > c.average\n",
    "group by c.business_id\n",
    "having count(*) > 1\n",
    "'''"
   ]
  }
 ],
 "metadata": {
  "kernelspec": {
   "display_name": "Python 3 (ipykernel)",
   "language": "python",
   "name": "python3"
  },
  "language_info": {
   "codemirror_mode": {
    "name": "ipython",
    "version": 3
   },
   "file_extension": ".py",
   "mimetype": "text/x-python",
   "name": "python",
   "nbconvert_exporter": "python",
   "pygments_lexer": "ipython3",
   "version": "3.10.1"
  }
 },
 "nbformat": 4,
 "nbformat_minor": 1
}
