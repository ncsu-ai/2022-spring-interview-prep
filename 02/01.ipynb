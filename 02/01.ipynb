{
 "cells": [
  {
   "cell_type": "markdown",
   "metadata": {
    "collapsed": true,
    "pycharm": {
     "name": "#%%\n"
    }
   },
   "source": [
    "# Reverse Singly Linked List (Google)\n",
    "##### *Algorithms & Data Structures*\n",
    "\n",
    "Given the head of a singly linked list, reverse it in-place."
   ]
  },
  {
   "cell_type": "code",
   "execution_count": null,
   "metadata": {},
   "outputs": [],
   "source": []
  },
  {
   "cell_type": "markdown",
   "metadata": {},
   "source": [
    "### Solution\n",
    "\n",
    "We can do this recursively and cleverly, using Python's default argument feature. Basically, we call the following `reverse(...)` function on the head's `next` node, but not before cleaning up some pointers first:"
   ]
  },
  {
   "cell_type": "code",
   "execution_count": null,
   "metadata": {},
   "outputs": [],
   "source": [
    "def reverse(head, prev=None):\n",
    "    if not head:\n",
    "        return prev\n",
    "    \n",
    "    tmp = head.next\n",
    "    head.next = prev\n",
    "    return reverse(tmp, head)"
   ]
  },
  {
   "cell_type": "markdown",
   "metadata": {},
   "source": [
    "This runs in $O(N)$ time, but it also runs in $O(N)$ space, since Python doesn't implement [tail recursion elimination](https://www.kylem.net/programming/tailcall.html).\n",
    "\n",
    "We can improve the space complexity of our solution by doing this iteratively, while keeping track of two things: a `prev` pointer and a `current` pointer. The `current` pointer will iterate over the list and the `prev` pointer will follow one node behind. Then, as we move along the list, we'll fix up the `current` node's `next` pointer to point to the previous node. Then we update `prev` and `current`."
   ]
  },
  {
   "cell_type": "code",
   "execution_count": null,
   "metadata": {},
   "outputs": [],
   "source": [
    "def reverse(head):\n",
    "    prev, current = None, head\n",
    "    while current is not None:\n",
    "        tmp = current.next\n",
    "        current.next = prev\n",
    "        prev = current\n",
    "        current = tmp\n",
    "        \n",
    "    return prev"
   ]
  },
  {
   "cell_type": "markdown",
   "metadata": {},
   "source": [
    "Our solution still runs in $O(N)$ time, but now only utilizes $O(1)$ (constant) space."
   ]
  }
 ],
 "metadata": {
  "kernelspec": {
   "display_name": "Python 3 (ipykernel)",
   "language": "python",
   "name": "python3"
  },
  "language_info": {
   "codemirror_mode": {
    "name": "ipython",
    "version": 3
   },
   "file_extension": ".py",
   "mimetype": "text/x-python",
   "name": "python",
   "nbconvert_exporter": "python",
   "pygments_lexer": "ipython3",
   "version": "3.10.1"
  }
 },
 "nbformat": 4,
 "nbformat_minor": 1
}
