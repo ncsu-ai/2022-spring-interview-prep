{
 "cells": [
  {
   "cell_type": "markdown",
   "metadata": {
    "collapsed": true,
    "pycharm": {
     "name": "#%%\n"
    }
   },
   "source": [
    "# Cross-Validation (Samsung)\n",
    "##### *AI/ML Domain*\n",
    "\n",
    "What is stratified cross-validation and when should we use it?"
   ]
  },
  {
   "cell_type": "code",
   "execution_count": null,
   "metadata": {},
   "outputs": [],
   "source": []
  },
  {
   "cell_type": "markdown",
   "metadata": {},
   "source": [
    "### Solution\n",
    "\n",
    "Cross-validation is a technique for dividing data between training and validation sets. In typical cross-validation, this split is done randomly, but in stratified cross-validation the split preserves the ratio of the categories on both the training and validation datasets.\n",
    "\n",
    "For example, if we have a dataset with 10% of category A and 90% of category B, and we use stratified cross-validation, we will have the same proportions of each category in both our training set and validation set. In contrast, if we use simple cross-validation, we may find that there are no samples of category A in one of the training set or validation set.\n",
    "\n",
    "Stratified cross-validation may be applied in the following scenarios:\n",
    "- On a dataset with multiple categories. The smaller the dataset and the more imbalanced the categories, the more important it will be to use stratified cross-validation.\n",
    "- On a dataset with data of different distributions. For example, in a dataset for autonomous driving, we may have images taken during the day and at night. If we do not ensure that both types are present in training and validation, we will have generalization problems."
   ]
  }
 ],
 "metadata": {
  "kernelspec": {
   "display_name": "Python 3 (ipykernel)",
   "language": "python",
   "name": "python3"
  },
  "language_info": {
   "codemirror_mode": {
    "name": "ipython",
    "version": 3
   },
   "file_extension": ".py",
   "mimetype": "text/x-python",
   "name": "python",
   "nbconvert_exporter": "python",
   "pygments_lexer": "ipython3",
   "version": "3.10.1"
  }
 },
 "nbformat": 4,
 "nbformat_minor": 1
}
