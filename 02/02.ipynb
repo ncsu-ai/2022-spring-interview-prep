{
 "cells": [
  {
   "cell_type": "markdown",
   "metadata": {
    "collapsed": true,
    "pycharm": {
     "name": "#%%\n"
    }
   },
   "source": [
    "# Number of Times X Appears in Multiplication Array (Apple)\n",
    "##### *Algorithms & Data Structures*\n",
    "\n",
    "Suppose you have a multiplication table that is `N` by `N`. That is, a 2D array where the value at the `i`th row and `j`th column is `(i + 1) * (j + 1)` (if 0-indexed) or `i * j` (if 1-indexed).\n",
    "\n",
    "Given integers `N` and `X`, write a function that returns the number of times `X` appears as a value in an `N` by `N` multiplication table.\n",
    "\n",
    "For example, given `N=6`, `X=12` and the multiplication table below, you should return `4`."
   ]
  },
  {
   "cell_type": "code",
   "execution_count": 3,
   "metadata": {},
   "outputs": [
    {
     "data": {
      "text/html": [
       "<table style=\"width: 30%;\"><tr><td><img src=\"img/table.png\"/></td></tr></table>"
      ],
      "text/plain": [
       "<IPython.core.display.HTML object>"
      ]
     },
     "metadata": {},
     "output_type": "display_data"
    }
   ],
   "source": [
    "from IPython.display import display, HTML\n",
    "display(HTML('<table style=\"width: 30%;\"><tr><td><img src=\"img/table.png\"/></td></tr></table>'))"
   ]
  },
  {
   "cell_type": "code",
   "execution_count": null,
   "metadata": {},
   "outputs": [],
   "source": []
  },
  {
   "cell_type": "markdown",
   "metadata": {},
   "source": [
    "### Solution\n",
    "\n",
    "We can solve this problem naively in $O(N^2)$ time by actually trying out all possible combinations, and incrementing a counter each time we see one:"
   ]
  },
  {
   "cell_type": "code",
   "execution_count": null,
   "metadata": {},
   "outputs": [],
   "source": [
    "def multi_tables(n, x):\n",
    "    count = 0\n",
    "    for i in range(1, n + 1):\n",
    "        for j in range (1, n + 1):\n",
    "            if i * j == x:\n",
    "                count += 1\n",
    "    \n",
    "    return count"
   ]
  },
  {
   "cell_type": "markdown",
   "metadata": {},
   "source": [
    "As with most naive solutions to algorithm/data structure problems, we can certainly improve the expected runtime of the above solution. Notice that, in the example image, the rows/columns of the cells that matched with 12 are all factors of 12. There can also only be one matching cell per row. Therefore, we can determine whether a particular row will match `X` if:\n",
    "1. It is a factor of `X`\n",
    "2. Its corresponding factor is less than `N` (so it's still in the matrix)"
   ]
  },
  {
   "cell_type": "code",
   "execution_count": null,
   "metadata": {},
   "outputs": [],
   "source": [
    "def multi_tables(n, x):\n",
    "    count = 0\n",
    "    for i in range(1, n + 1):\n",
    "        if x % i == 0 and x / i <= n:\n",
    "            count += 1\n",
    "    \n",
    "    return count"
   ]
  },
  {
   "cell_type": "markdown",
   "metadata": {},
   "source": [
    "This solution only takes $O(N)$ time."
   ]
  }
 ],
 "metadata": {
  "kernelspec": {
   "display_name": "Python 3 (ipykernel)",
   "language": "python",
   "name": "python3"
  },
  "language_info": {
   "codemirror_mode": {
    "name": "ipython",
    "version": 3
   },
   "file_extension": ".py",
   "mimetype": "text/x-python",
   "name": "python",
   "nbconvert_exporter": "python",
   "pygments_lexer": "ipython3",
   "version": "3.10.1"
  }
 },
 "nbformat": 4,
 "nbformat_minor": 1
}
